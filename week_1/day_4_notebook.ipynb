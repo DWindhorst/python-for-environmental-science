{
 "cells": [
  {
   "cell_type": "markdown",
   "metadata": {},
   "source": [
    "# Python for Environmental Science Day 3\n",
    "## Topics\n",
    "* Python Data Structures\n",
    "    * Lists\n",
    "    * Tuples\n",
    "    * Dictionaries\n",
    "    * Sets\n",
    "    \n",
    "## General\n",
    "Up until now we only had one way to store data we got: variables. As you probably have already noticed this is sometimes a bit annoying as you have to create a new variable every time you want to save something. To tackle this problem several more elegant ways to store things exist in Python. To get a little overview watch [this video](https://youtu.be/bpqsPFPuX34). \n",
    "\n",
    "## Mutable/Immutable\n",
    "When using the different Python data structures you will often come across the terms mutable and immutable. They simply refer to the fact if you can change the elements in something you have saved or not. An example could be that you read in a file and you extracted some information out of it. You want to use that information later in your program for several calculations. To make sure that the calculations only, but not change the things you saved, you can save them in an immutable type. Watch [this video](https://youtu.be/sD3P0z1MFGE) to get an explanation that refers to real life objects. \n",
    "\n",
    "## Lists\n",
    "Lists are probably the data structure you will use most often. They store the values in the order you provide them with. They are defined with square brackets and can by iterated over. Also you can add and remove values from them easily. [This video](https://youtu.be/ohCDWZgNIU0) shows you a bit more on how lists work. "
   ]
  },
  {
   "cell_type": "code",
   "execution_count": 4,
   "metadata": {},
   "outputs": [
    {
     "name": "stdout",
     "output_type": "stream",
     "text": [
      "1\n",
      "bla\n",
      "38\n",
      "True\n",
      "[1, 'bla', 38, True, 5]\n",
      "[1, 'bla', 38, True]\n"
     ]
    }
   ],
   "source": [
    "# Definition\n",
    "my_list = [1, \"bla\", 38, True]\n",
    "# Iteration\n",
    "for item in my_list:\n",
    "    print(item)\n",
    "# Add something at the end\n",
    "my_list.append(5)\n",
    "print(my_list)\n",
    "# Remove the last item\n",
    "my_list.pop()\n",
    "print(my_list)"
   ]
  },
  {
   "cell_type": "markdown",
   "metadata": {},
   "source": [
    "**Tuples** behave very similar to lists. The main difference is that a tuple is immutable, while a list is mutable. Try changing the value of tuple and you will get an error."
   ]
  },
  {
   "cell_type": "code",
   "execution_count": 10,
   "metadata": {},
   "outputs": [
    {
     "name": "stdout",
     "output_type": "stream",
     "text": [
      "(1, 3, 4, 'bla', False)\n"
     ]
    },
    {
     "ename": "TypeError",
     "evalue": "'tuple' object does not support item assignment",
     "output_type": "error",
     "traceback": [
      "\u001b[1;31m---------------------------------------------------------------------------\u001b[0m",
      "\u001b[1;31mTypeError\u001b[0m                                 Traceback (most recent call last)",
      "\u001b[1;32m<ipython-input-10-0e46f0dc97da>\u001b[0m in \u001b[0;36m<module>\u001b[1;34m()\u001b[0m\n\u001b[0;32m      1\u001b[0m \u001b[0mmy_tuple\u001b[0m \u001b[1;33m=\u001b[0m \u001b[1;33m(\u001b[0m\u001b[1;36m1\u001b[0m\u001b[1;33m,\u001b[0m\u001b[1;36m3\u001b[0m\u001b[1;33m,\u001b[0m\u001b[1;36m4\u001b[0m\u001b[1;33m,\u001b[0m\u001b[1;34m\"bla\"\u001b[0m\u001b[1;33m,\u001b[0m \u001b[1;32mFalse\u001b[0m\u001b[1;33m)\u001b[0m\u001b[1;33m\u001b[0m\u001b[0m\n\u001b[0;32m      2\u001b[0m \u001b[0mprint\u001b[0m\u001b[1;33m(\u001b[0m\u001b[0mmy_tuple\u001b[0m\u001b[1;33m)\u001b[0m\u001b[1;33m\u001b[0m\u001b[0m\n\u001b[1;32m----> 3\u001b[1;33m \u001b[0mmy_tuple\u001b[0m\u001b[1;33m[\u001b[0m\u001b[1;36m1\u001b[0m\u001b[1;33m]\u001b[0m \u001b[1;33m=\u001b[0m \u001b[1;36m5\u001b[0m\u001b[1;33m\u001b[0m\u001b[0m\n\u001b[0m",
      "\u001b[1;31mTypeError\u001b[0m: 'tuple' object does not support item assignment"
     ]
    }
   ],
   "source": [
    "my_tuple = (1,3,4,\"bla\", False)\n",
    "print(my_tuple)\n",
    "my_tuple[1] = 5"
   ]
  },
  {
   "cell_type": "markdown",
   "metadata": {},
   "source": [
    "The error message tells us that we cannot assign a new value to any place in the tuple, e.g. it is immutable."
   ]
  },
  {
   "cell_type": "markdown",
   "metadata": {},
   "source": [
    "## Using Indexes\n",
    "Two very important concepts of lists (and many other types in Python) are **indexing** and **slicing**. \n",
    "* Indexing refers to the process that you want to get an item at a certain place. For example I want the second item (\"bla\") from the list we defined above:"
   ]
  },
  {
   "cell_type": "code",
   "execution_count": 5,
   "metadata": {},
   "outputs": [
    {
     "name": "stdout",
     "output_type": "stream",
     "text": [
      "bla\n"
     ]
    }
   ],
   "source": [
    "print(my_list[1])"
   ]
  },
  {
   "cell_type": "markdown",
   "metadata": {},
   "source": [
    "Notice that I used '1' to get the item at the second position. This is caused by Python starting to count with 0 ([for some seemingly smart reasons](https://softwareengineering.stackexchange.com/questions/110804/why-are-zero-based-arrays-the-norm)) instead of 1. It takes a while to get used to, but you will get it sooner or later. \n",
    "* Slicing on the other hand means that you want to get a up to several elements from a list (or other things that can be indexed). For example we want to have all the elements after the first one."
   ]
  },
  {
   "cell_type": "code",
   "execution_count": 8,
   "metadata": {},
   "outputs": [
    {
     "name": "stdout",
     "output_type": "stream",
     "text": [
      "['bla', 38, True]\n"
     ]
    }
   ],
   "source": [
    "print(my_list[1:])"
   ]
  },
  {
   "cell_type": "markdown",
   "metadata": {},
   "source": [
    "For a longer explanation see [here](https://stackoverflow.com/questions/509211/understanding-pythons-slice-notation). Note that all those nice indexing and slicing operations can also be performed on tuples."
   ]
  },
  {
   "cell_type": "code",
   "execution_count": 12,
   "metadata": {},
   "outputs": [
    {
     "name": "stdout",
     "output_type": "stream",
     "text": [
      "(1, 3, 4, 'bla', False)\n",
      "(3, 4, 'bla', False)\n",
      "1\n"
     ]
    }
   ],
   "source": [
    "print(my_tuple)\n",
    "print(my_tuple[1:])\n",
    "print(my_tuple[0])"
   ]
  },
  {
   "cell_type": "markdown",
   "metadata": {},
   "source": [
    "### Practice Questions\n",
    "* Can you have lists in lists?\n",
    "* Is it normal to get a headache when thinking about nested data structures?\n",
    "* What could my_list[-1] evaluate to?\n",
    "* What could my_list[:] evaluate to?\n",
    "* What happens when you try to add lists?\n",
    "* What happens when you try to multiply lists?\n",
    "* What is the difference between a tuple and a list?"
   ]
  }
 ],
 "metadata": {
  "kernelspec": {
   "display_name": "Python 3",
   "language": "python",
   "name": "python3"
  },
  "language_info": {
   "codemirror_mode": {
    "name": "ipython",
    "version": 3
   },
   "file_extension": ".py",
   "mimetype": "text/x-python",
   "name": "python",
   "nbconvert_exporter": "python",
   "pygments_lexer": "ipython3",
   "version": "3.6.1"
  }
 },
 "nbformat": 4,
 "nbformat_minor": 2
}
