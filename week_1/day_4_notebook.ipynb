{
 "cells": [
  {
   "cell_type": "markdown",
   "metadata": {},
   "source": [
    "# Python for Environmental Science Day 3\n",
    "## Topics\n",
    "* Python Data Structures\n",
    "    * Lists\n",
    "    * Dictionaries\n",
    "    * Tuples\n",
    "    * Sets\n",
    "    \n",
    "## General\n",
    "Up until now we only had one way to store data we got: variables. As you probably have already noticed this is sometimes a bit annoying as you have to create a new variable every time you want to save something. To tackle this problem several more elegant ways to store things exist in Python. To get a little overview watch [this video](https://youtu.be/bpqsPFPuX34). \n",
    "\n",
    "## Mutable/Immutable\n",
    "When using the different Python data structures you will often come across the terms mutable and immutable. They simply refer to the fact if you can change the elements in something you have saved or not. An example could be that you read in a file and you extracted some information out of it. You want to use that information later in your program for several calculations. To make sure that the calculations only, but not change the things you saved, you can save them in an immutable type. Watch [this video](https://youtu.be/sD3P0z1MFGE) to get an explanation that refers to real life objects. \n",
    "\n",
    "## Lists\n",
    "Lists are probably the data structure you will use most often.\n",
    "\n",
    "### Practice Questions\n",
    "* Can you have lists in lists?\n",
    "* Is is normal to get a headache when thinking about nested data structures?"
   ]
  }
 ],
 "metadata": {
  "kernelspec": {
   "display_name": "Python 3",
   "language": "python",
   "name": "python3"
  },
  "language_info": {
   "codemirror_mode": {
    "name": "ipython",
    "version": 3
   },
   "file_extension": ".py",
   "mimetype": "text/x-python",
   "name": "python",
   "nbconvert_exporter": "python",
   "pygments_lexer": "ipython3",
   "version": "3.6.1"
  }
 },
 "nbformat": 4,
 "nbformat_minor": 2
}
