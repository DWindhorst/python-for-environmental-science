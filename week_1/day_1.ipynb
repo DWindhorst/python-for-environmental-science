{
 "cells": [
  {
   "cell_type": "markdown",
   "metadata": {},
   "source": [
    "# Python for Environmental Science Day 1\n",
    "## Topics\n",
    "* General Informations about the Course\n",
    "* Getting started\n",
    "* Spyder\n",
    "* The interactive Shell\n",
    "* Expressions in Python\n",
    "* Storing Values in Variables\n",
    "* Data Types\n",
    "* String Concatenation and Replication\n",
    "* Writing your first Program\n",
    "    * Comments\n",
    "    * Built in Python Functions\n",
    "    * Data Type Conversion\n",
    "    "
   ]
  },
  {
   "cell_type": "markdown",
   "metadata": {},
   "source": [
    "## General Informations about the Course\n",
    "* Before you come into class you are required to have read the notebook for this day and watched all videos in it! You can also play around with the code, but this is not strictly neccesary. However, it probably enables you to ask deeper questions in the course.\n",
    "* For most of the topics I will walk you through a first example intensively, then we will discuss the solution of a second example together and finally you will solve one or more examples on your own.\n",
    "* Some videos I will send you will have a defined starting time. This is intentionally, as I think the parts of the video before the starting time are not worth watching. \n",
    "* Sometimes the topics of different videos will overlap. I could not really avoid this as I did not make them myself. But, you can also see this as a chance to review things you already heard. \n",
    "* YouTube allows you to watch videos faster! Very useful if you have the impression that someone in the video talks way to slow.\n",
    "* This course is meant to teach you programming and one big part of programming is finding answers on your own. If you are confused about something please use [stackoverflow](https://stackoverflow.com/) and google first. Then ask us. \n",
    "* Jupyter notebooks are a great way to show stuff, play around and describe workflows. However, if you do your programming assignments and the longer examples I would strongly recommend that you use Spyder, as it allows much easier coding. \n",
    "* For this course I use several books and MOOCs. If you want to take a look at them yourself here are some (in ascending order of how useful I consider them):\n",
    "\t* Books\n",
    "\t\t* Automate the boring stuff with Python (available through the library of the university)\n",
    "\t\t* [Think Python](http://www.greenteapress.com/thinkpython/thinkpython.pdf)\n",
    "\t\t* [Learn Python the hard way](http://www.souravsengupta.com/cds2015/python/LPTHW.pdf)\n",
    "\t* MOOCs:\n",
    "\t\t* [Interactive Python](https://www.coursera.org/learn/interactive-python-1)\n",
    "\t\t* [Data Science in Python](https://www.coursera.org/learn/python-data-analysis) (challenging course)\n",
    "\t\t* [Using Python for Research](https://www.edx.org/course/using-python-research-harvardx-ph526x-0)\n",
    "\t\t* [Python for everybody](https://www.coursera.org/learn/python)\n",
    "\n"
   ]
  },
  {
   "cell_type": "markdown",
   "metadata": {},
   "source": [
    "## Getting started!\n",
    "Now that all the administrative stuff is out of the way and your WinPython is good to go we can finally start with the course itself. And what better way is there to start a course than with a MIT lecture?\n",
    "[This video](https://youtu.be/ytpJdnlu9ug?t=6m54s) will give you a very good introduction into programming and the topic we cover today. If you do not understand everything that is explained in the video do not worry. We will go through all of it today. At least the programming part, not the computer science part. This is just a little extra knowledge for you."
   ]
  },
  {
   "cell_type": "markdown",
   "metadata": {},
   "source": [
    "## Sypder\n",
    "When you program you could simply type everything in a text editor, but this is very unwieldy to use. Therefore, programmers use source code editors and integrated development environments (IDE). A code editor is just a text editor which is specifically designed for editing source code. A example for this would be Notepad ++. However, those editors usually are limited in what they can do and more capable tools are needed. On of those tools are IDEs. IDEs also contain an editor, but many additional features that make your life as a programmer easier. For our course we will be using the Spyder IDE, which is already part of WinPython. To give you an impression on how Spyder works here is a short [introduction](https://youtu.be/a1P_9fGrfnU?t=3m). Do not worry too much about what code is shown in the video. It is only meant to show you how Spyder works."
   ]
  },
  {
   "cell_type": "markdown",
   "metadata": {
    "collapsed": false
   },
   "source": [
    "## The interactive Shell \n",
    "When using Python, you often come along the problem that you want to try something out. You could easily write a whole script for everything you want to try. However, this is a large overhead if you want a quick and dirty test of how something works. For such things the interactive shell exists. Watch [this video](https://youtu.be/TjX9TzxnDxc) for a short introduction to this idea. As above do not worry about the code. We will come back to it later. \n",
    "\n",
    "The great thing about Jupyter Notebooks is that we have something similar to a interactive shell right here: "
   ]
  },
  {
   "cell_type": "markdown",
   "metadata": {},
   "source": []
  },
  {
   "cell_type": "code",
   "execution_count": 4,
   "metadata": {},
   "outputs": [
    {
     "data": {
      "text/plain": [
       "1"
      ]
     },
     "execution_count": 4,
     "metadata": {},
     "output_type": "execute_result"
    }
   ],
   "source": [
    "1"
   ]
  },
  {
   "cell_type": "markdown",
   "metadata": {},
   "source": [
    "So as you saw above the Jupyter notebook lets you easily type and test simple stuff. We can even code the infamous \"Hello World\" in our notebook:"
   ]
  },
  {
   "cell_type": "code",
   "execution_count": 5,
   "metadata": {},
   "outputs": [
    {
     "name": "stdout",
     "output_type": "stream",
     "text": [
      "Hello World!\n"
     ]
    }
   ],
   "source": [
    "print(\"Hello World!\")"
   ]
  },
  {
   "cell_type": "markdown",
   "metadata": {},
   "source": [
    "No you try. Let the notebook print your own name.\n",
    "![Do it!](https://media.giphy.com/media/24xRxrDCLxhT2/200.gif)"
   ]
  },
  {
   "cell_type": "code",
   "execution_count": null,
   "metadata": {},
   "outputs": [],
   "source": [
    "# Do it!"
   ]
  },
  {
   "cell_type": "markdown",
   "metadata": {},
   "source": [
    "Obviously, this is not everyting the interactive shell is capable off. Everything Python has to offer can be done in the interactive console. But usually, it is only used to test stuff. For example I often need to know which version of a package I am using. For this I simply have to type the following into the shell:"
   ]
  },
  {
   "cell_type": "code",
   "execution_count": 1,
   "metadata": {},
   "outputs": [
    {
     "name": "stdout",
     "output_type": "stream",
     "text": [
      "1.14.0\n"
     ]
    }
   ],
   "source": [
    "import numpy\n",
    "print(numpy.__version__)"
   ]
  },
  {
   "cell_type": "markdown",
   "metadata": {},
   "source": [
    "## Expressions in Python\n",
    "Expressions are the most basic kind of of programming instructions. \"Expressions consist of values and operators, and they can always evaluate to a single value\". Those fancy words simply mean that you have to tell Python what it should to with the things you give it. [This video](https://youtu.be/osSrIy33nWE) puts it nicely. The most simple example would be an addition:"
   ]
  },
  {
   "cell_type": "code",
   "execution_count": 2,
   "metadata": {},
   "outputs": [
    {
     "data": {
      "text/plain": [
       "4"
      ]
     },
     "execution_count": 2,
     "metadata": {},
     "output_type": "execute_result"
    }
   ],
   "source": [
    "2 + 2"
   ]
  },
  {
   "cell_type": "markdown",
   "metadata": {},
   "source": [
    "A more complex one could be:"
   ]
  },
  {
   "cell_type": "code",
   "execution_count": 3,
   "metadata": {},
   "outputs": [
    {
     "data": {
      "text/plain": [
       "-983499653308.666"
      ]
     },
     "execution_count": 3,
     "metadata": {},
     "output_type": "execute_result"
    }
   ],
   "source": [
    "import math\n",
    "(356 * math.sqrt(5) ** 27) / math.sin(30)"
   ]
  },
  {
   "cell_type": "markdown",
   "metadata": {},
   "source": [
    "Still it follows the same rules. We have operands like 356 and operators like sin. Now you try. Create an expression which consists of at leat 5 operands and 4 operators. To spark your imagination [here] (https://www.tutorialspoint.com/python/python_basic_operators.htm) is a list of all commonly used operators in Python."
   ]
  },
  {
   "cell_type": "code",
   "execution_count": null,
   "metadata": {},
   "outputs": [],
   "source": []
  },
  {
   "cell_type": "markdown",
   "metadata": {},
   "source": [
    "## Storing Values in Variables\n",
    "Now we know how to new values using expressions. What we do not yet know is how to store them. Storing the values you create is a basic element of every program, as you cannot write meaningful code without ever storing anyting. It would be like trying to solve a very difficult math problem without being allowed to write anything down. So the way to store something in Python are variables. Variables simply connect something that is stored in your computers memory with a name, so we can find it again. Here is a simple example:\n"
   ]
  },
  {
   "cell_type": "code",
   "execution_count": 5,
   "metadata": {},
   "outputs": [],
   "source": [
    "answer = 42"
   ]
  },
  {
   "cell_type": "markdown",
   "metadata": {},
   "source": [
    "From now on, if you ever need the number 42 you can simply type answer and you can work with it (I know this is not a very useful example, but the early ones never are). \n",
    "\n",
    "For a nice explanations of variables (and the introduction of reserved words) take a look at [this video](https://youtu.be/7KHdV6FSpo8). \n",
    "\n",
    "The guy in the video also talks about Python naming rules and good names for variables. Which of the following is 1) a working name in Python 2) a good name:"
   ]
  },
  {
   "cell_type": "code",
   "execution_count": null,
   "metadata": {},
   "outputs": [],
   "source": [
    "bla = \"blub\"\n",
    "23_super = \"x\"\n",
    "name = \"Florian\"\n",
    "answer_to_everything = 42\n",
    " "
   ]
  },
  {
   "cell_type": "markdown",
   "metadata": {},
   "source": [
    "## Data Types"
   ]
  }
 ],
 "metadata": {
  "kernelspec": {
   "display_name": "Python 3",
   "language": "python",
   "name": "python3"
  },
  "language_info": {
   "codemirror_mode": {
    "name": "ipython",
    "version": 3
   },
   "file_extension": ".py",
   "mimetype": "text/x-python",
   "name": "python",
   "nbconvert_exporter": "python",
   "pygments_lexer": "ipython3",
   "version": "3.6.1"
  }
 },
 "nbformat": 4,
 "nbformat_minor": 2
}
