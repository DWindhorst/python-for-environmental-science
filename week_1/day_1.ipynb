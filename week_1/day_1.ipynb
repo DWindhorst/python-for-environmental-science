{
 "cells": [
  {
   "cell_type": "markdown",
   "metadata": {},
   "source": [
    "# Python for Environmental Science Day 1\n",
    "## Topics\n",
    "* General Informations about the Course\n",
    "* Getting started\n",
    "* Spyder\n",
    "* The interactive Shell\n",
    "* Data Types\n",
    "* String Concatenation and Replication\n",
    "* Storing Values in Variables\n",
    "* Writing your first Program\n",
    "    * Comments\n",
    "    * Built in Python Functions\n",
    "    * Data Type Conversion\n",
    "    "
   ]
  },
  {
   "cell_type": "markdown",
   "metadata": {},
   "source": [
    "## General Informations about the Course\n",
    "* For most of the topics I will walk you through a first example intensively, then we will discuss the solution of a second example together and finally you will solve one or more examples on your own.\n",
    "* Some videos I will send you will have a defined starting time. This is intentionally, as I think the parts of the video before the starting time are not worth watching. \n",
    "* This course is meant to teach you programming and one big part of programming is finding answers on your own. If you are confused about something please use [stackoverflow](https://stackoverflow.com/) and google first. Then ask us. \n",
    "* Jupyter notebooks are a great way to show stuff, play around and describe workflows. However, if you do your programming assignments and example I would strongly recommend that you use Spyder, as it allows much easier coding. \n",
    "* For this course I use several books and MOOCs. If you want to take a look at them yourself here are some (in ascending order of how useful I consider them):\n",
    "\t* Books\n",
    "\t\t* Automate the boring stuff with Python\n",
    "\t\t* Thinkpython\n",
    "\t\t* Learn Python the hard way\n",
    "\t* MOOCs:\n",
    "\t\t* [Interactive Python](https://www.coursera.org/learn/interactive-python-1)\n",
    "\t\t* [Using Python for Research](https://www.edx.org/course/using-python-research-harvardx-ph526x-0)\n",
    "\t\t* [Python for everybody](https://www.coursera.org/learn/python)\n",
    "\n"
   ]
  },
  {
   "cell_type": "markdown",
   "metadata": {},
   "source": [
    "## Getting started!\n",
    "Now that all the administrative stuff is out of the way and your WinPython is good to go we can finally start with the course itself. And what better way is there to start a course than with a MIT lecture?\n",
    "[This video](https://youtu.be/ytpJdnlu9ug?t=6m54s) will give you a very good introduction into programming and the topic we cover today. If you do not understand everything that is explained in the video do not worry. We will go through all of it today."
   ]
  },
  {
   "cell_type": "markdown",
   "metadata": {},
   "source": [
    "## Sypder\n",
    "When you program you could simply type everything in a text editor, but this is very unwieldy to use. Therefore, programmers use source code editors and integrated development environments (IDE). A code editor is just a text editor which is specifically designed for editing source code. A example for this would be Notepad ++. However, those editors usually are limited in what they can do and more capable tools are needed. On of those tools are IDEs. IDEs also contain an editor, but many additional features that make your life as a programmer easier. For our course we will be using the Spyder IDE, which is already part of WinPython. To give you an impression on how Spyder works here is a short [introduction](https://youtu.be/a1P_9fGrfnU?t=3m). Do not worry too much about what code is shown in the video. It is only meant to show you how Spyder works."
   ]
  },
  {
   "cell_type": "markdown",
   "metadata": {
    "collapsed": false
   },
   "source": [
    "### The interactive Shell\n",
    "When using Python, you often come along the problem that you want to try something out. You could easily write a whole script for everything you want to try. However, this is a large overhead if you want a quick and dirty test of how something works. For such things the interactive shell exists. "
   ]
  },
  {
   "cell_type": "markdown",
   "metadata": {},
   "source": []
  }
 ],
 "metadata": {
  "kernelspec": {
   "display_name": "Python 3",
   "language": "python",
   "name": "python3"
  },
  "language_info": {
   "codemirror_mode": {
    "name": "ipython",
    "version": 3
   },
   "file_extension": ".py",
   "mimetype": "text/x-python",
   "name": "python",
   "nbconvert_exporter": "python",
   "pygments_lexer": "ipython3",
   "version": "3.6.1"
  }
 },
 "nbformat": 4,
 "nbformat_minor": 2
}
