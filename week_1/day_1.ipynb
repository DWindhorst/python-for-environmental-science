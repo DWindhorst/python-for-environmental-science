{
 "cells": [
  {
   "cell_type": "markdown",
   "metadata": {},
   "source": [
    "# Python for Environmental Science Day 1\n",
    "## Topics\n",
    "* General Informations about the Course\n",
    "* Spyder\n",
    "* The interactive Shell\n",
    "* Data Types\n",
    "* String Concatenation and Replication\n",
    "* Storing Values in Variables\n",
    "* Writing your first Program\n",
    "    * Comments\n",
    "    * Built in Python Functions\n",
    "    * Data Type Conversion\n",
    "    "
   ]
  },
  {
   "cell_type": "markdown",
   "metadata": {},
   "source": [
    "## General Informations about the Course\n",
    "* Videos have starting times"
   ]
  },
  {
   "cell_type": "markdown",
   "metadata": {},
   "source": [
    "## Sypder\n",
    "When you program you could simply type everything in a text editor, but this is very unwieldy to use. Therefore, programmers use source code editors and integrated development environments (IDE). A code editor is just a text editor which is specifically designed for editing source code. A example for this would be Notepad ++. However, those editors usually are limited in what they can do and more capable tools are needed. On of those tools are IDEs. IDEs also contain an editor, but many additional features that make your life as a programmer easier. For our course we will be using the Spyder IDE, which is already part of WinPython. To give you an impression on how Spyder works here is a short [introduction](https://youtu.be/a1P_9fGrfnU?t=2m45s)."
   ]
  },
  {
   "cell_type": "markdown",
   "metadata": {
    "collapsed": false
   },
   "source": [
    "### The interactive Shell\n",
    "When using Python, you often come along the problem that you want to try something out. You could easily write a "
   ]
  }
 ],
 "metadata": {
  "kernelspec": {
   "display_name": "Python 3",
   "language": "python",
   "name": "python3"
  },
  "language_info": {
   "codemirror_mode": {
    "name": "ipython",
    "version": 3
   },
   "file_extension": ".py",
   "mimetype": "text/x-python",
   "name": "python",
   "nbconvert_exporter": "python",
   "pygments_lexer": "ipython3",
   "version": "3.6.1"
  }
 },
 "nbformat": 4,
 "nbformat_minor": 2
}
