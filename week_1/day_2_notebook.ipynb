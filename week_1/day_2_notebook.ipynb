{
 "cells": [
  {
   "cell_type": "markdown",
   "metadata": {
    "collapsed": true
   },
   "source": [
    "# Python for Environmental Science Day 2\n",
    "## Topics\n",
    "* Boolean Values\n",
    "* Operators for Comparison\n",
    "* Boolean Operators\n",
    "* Using Boolean and Comparison Operators together\n",
    "* Flow Control\n",
    "* Import Stuff"
   ]
  },
  {
   "cell_type": "markdown",
   "metadata": {},
   "source": [
    "## Getting started!\n",
    "As for yesterday, MIT provides a [great video](https://youtu.be/0jljZRnHwOI) that sums up pretty much everything we will cover today. After a little recap on string concatenation (what we already learned yesterday), it covers the basics of flow control (here called branching, yet another name for the same thing is conditionals) and later the basics of loops."
   ]
  },
  {
   "cell_type": "markdown",
   "metadata": {},
   "source": [
    "## Boolean Values\n",
    "Up until now we only used strings and numbers, but missed out on another very important data type in Python: boolean values.\n",
    "Boolean values behave a bit different in comparison two other data types. They can only have two values:\n",
    "* True\n",
    "* False\n"
   ]
  },
  {
   "cell_type": "markdown",
   "metadata": {},
   "source": [
    "## Flow Control\n",
    "\n",
    "\n",
    "Here is a little reminder on how the [range function](https://youtu.be/0jljZRnHwOI?t=36m21s) works."
   ]
  }
 ],
 "metadata": {
  "kernelspec": {
   "display_name": "Python 2",
   "language": "python",
   "name": "python2"
  },
  "language_info": {
   "codemirror_mode": {
    "name": "ipython",
    "version": 2
   },
   "file_extension": ".py",
   "mimetype": "text/x-python",
   "name": "python",
   "nbconvert_exporter": "python",
   "pygments_lexer": "ipython2",
   "version": "2.7.6"
  }
 },
 "nbformat": 4,
 "nbformat_minor": 0
}
