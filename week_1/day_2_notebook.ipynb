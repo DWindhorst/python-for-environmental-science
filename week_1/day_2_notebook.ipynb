{
 "cells": [
  {
   "cell_type": "markdown",
   "metadata": {
    "collapsed": true
   },
   "source": [
    "# Python for Environmental Science Day 2\n",
    "## Topics\n",
    "* Boolean Values\n",
    "* Flow Control\n",
    "* Import Stuff"
   ]
  },
  {
   "cell_type": "markdown",
   "metadata": {},
   "source": [
    "## Getting started!\n",
    "As for yesterday, MIT provides a [great video](https://youtu.be/0jljZRnHwOI) that sums up pretty much everything we will cover today. After a little recap on string concatenation (what we already learned yesterday), it covers the basics of flow control (here called branching, yet another name for the same thing is conditionals) and later the basics of loops."
   ]
  },
  {
   "cell_type": "markdown",
   "metadata": {},
   "source": [
    "## Boolean Values\n",
    "Up until now we only used strings and numbers, but missed out on another very important data type in Python: boolean values.\n",
    "Boolean values behave a bit different in comparison to other data types. They can only have two values:\n",
    "* **True**\n",
    "\n",
    "\n",
    "or\n",
    "\n",
    "\n",
    "* **False**\n",
    "\n",
    "For a short introduction see [this video](https://youtu.be/9OK32jb_TdI). \n",
    "\n",
    "As you can see boolean values are mostly used to compare things and to determine if variables have the values you expect them to have. To connect them two types of operators exist:\n",
    "* **Comparison operators** (==, !=, <, >, <=, >=)\n",
    "\n",
    "and\n",
    "\n",
    "* **Boolean operators** (and, or, not)\n",
    "\n",
    "Comparison operators are mainly used to compare things and boolean operators to connect and negate other statements.\n",
    "\n",
    "### Practice Questions\n",
    "\n",
    "To test your understanding here are a bunch of different boolean expressions. Lets go through them together."
   ]
  },
  {
   "cell_type": "code",
   "execution_count": null,
   "metadata": {
    "collapsed": true
   },
   "outputs": [],
   "source": [
    "1 > 0"
   ]
  },
  {
   "cell_type": "code",
   "execution_count": null,
   "metadata": {
    "collapsed": true
   },
   "outputs": [],
   "source": [
    "not 5 == 5"
   ]
  },
  {
   "cell_type": "code",
   "execution_count": null,
   "metadata": {
    "collapsed": true
   },
   "outputs": [],
   "source": [
    "a = 37\n",
    "b = 50\n",
    "c = 1\n",
    "d = 1\n",
    "not(a > b and c == d) or c"
   ]
  },
  {
   "cell_type": "code",
   "execution_count": null,
   "metadata": {
    "collapsed": true
   },
   "outputs": [],
   "source": [
    "30 <= 30 and (31 - 15) == 16"
   ]
  },
  {
   "cell_type": "code",
   "execution_count": null,
   "metadata": {
    "collapsed": true
   },
   "outputs": [],
   "source": [
    "(\"yes\" < \"no\") or (1 and False)"
   ]
  },
  {
   "cell_type": "markdown",
   "metadata": {},
   "source": [
    "- What are the possible values for a boolean variable?\n",
    "- Name the boolean operators and what they are used for\n",
    "- Take a guess about what comparison operator you will probably use most"
   ]
  },
  {
   "cell_type": "markdown",
   "metadata": {},
   "source": [
    "## Flow Control\n",
    "### Conditionals\n",
    "Conditionals allow your programs to take different routes. For example you want to have a program that either prints a string or the number of characters in this string. You could outcomment parts of your code to accomplish this. "
   ]
  },
  {
   "cell_type": "code",
   "execution_count": null,
   "metadata": {
    "collapsed": true
   },
   "outputs": [],
   "source": [
    "name = \"Anna\"\n",
    "# print(name)\n",
    "print(len(name))"
   ]
  },
  {
   "cell_type": "markdown",
   "metadata": {},
   "source": [
    "But this a rather unpractical way to do this. Here, the conditionals come into play. There are three types of conditionals in Python:\n",
    "* **if**\n",
    "* **elif**\n",
    "* **else**\n",
    "\n",
    "For an explanation of their uses watch [this video](https://youtu.be/2aA3VBdcl6A) and [here](https://youtu.be/apcI8MkJTOA) (if you did not grasp the concept from the first one) and if you are still confused [here](https://youtu.be/f4KOjWS_KZs) is yet another one. So, a more logical way to tackle our task could be the following:"
   ]
  },
  {
   "cell_type": "code",
   "execution_count": null,
   "metadata": {
    "collapsed": true
   },
   "outputs": [],
   "source": [
    "name = \"Anna\"\n",
    "print_name = True\n",
    "if print_name: \n",
    "    print(name)\n",
    "else:\n",
    "    print(len(name))    "
   ]
  },
  {
   "cell_type": "markdown",
   "metadata": {},
   "source": [
    "As mentioned in the videos before, an important concept in Python becomes obvious:\n",
    "* Intendation\n",
    "\n",
    "Python is structured by using intendations. This just means that Python recognizes all lines in one intendation as one block. So in our example above both print statements are in different blocks.\n",
    "\n",
    "### Practice Questions\n",
    "* What happens if multiple elif blocks are True?\n",
    "* Can I have an if statement within an if statement?\n",
    "* What is the difference between \"if\" and \"elif\"?\n",
    "* How does Python know what part of the code belongs to a certain if?\n",
    "\n",
    "### Exercise 1\n",
    "Now you try it. Write a program that can do the following things:\n",
    "* Ask the user for a word\n",
    "* Determine if the word has more than 4 letters\n",
    "* If the word has more than four letters print it. Also, determine if it has exactly 5 letters. \n",
    "* In all cases print how many letters the word has\n",
    "* If it has exactly 5 letters also print a message were you applaud the user for picking such a fine word\n",
    "* Try what happens if you provide the program with an empty string\n",
    "\n",
    "Use Spyder for this. "
   ]
  },
  {
   "cell_type": "markdown",
   "metadata": {},
   "source": [
    "### Loops\n",
    "When writing code you often want to do something repeatetly. You could do this by simply writing the same code over and over again."
   ]
  },
  {
   "cell_type": "code",
   "execution_count": null,
   "metadata": {
    "collapsed": true
   },
   "outputs": [],
   "source": [
    "i = 1\n",
    "print(i)\n",
    "i = i + 1\n",
    "print(i)\n",
    "i = i + 1\n",
    "print(i)\n",
    "i = i + 1\n",
    "print(i)"
   ]
  },
  {
   "cell_type": "markdown",
   "metadata": {},
   "source": [
    "As you can imagine writing code this way sucks. \n",
    "<p><img src=\"https://encrypted-tbn0.gstatic.com/images?q=tbn:ANd9GcS1ku-PRz3WLK3zMkhG9jV7PMB4FZq5Z3XoSZG5usG2Q6xvdlFxjA\" align=\"left\">\n",
    "<br><br><br><br><br><br><br><br><br><br>\n",
    "\n",
    "But we are not the first persons to recognize that using Python this way is not a good idea. To overcome such problems loops exist. Loops run the code in them a predefined number of times (for-loop) or until a statement is not True anymore (while-loop). For a detailed explanation see [this video](https://youtu.be/6iF8Xb7Z3wQ) and [this video](https://youtu.be/FzpurxjwmsM).\n",
    "Here is a little reminder on how the [range function](https://youtu.be/0jljZRnHwOI?t=36m21s) works, which comes in handy when making for-loops. \n",
    "\n",
    "Here is the code above as a for-loop."
   ]
  },
  {
   "cell_type": "code",
   "execution_count": null,
   "metadata": {
    "collapsed": true
   },
   "outputs": [],
   "source": [
    "for i in range(1, 5):\n",
    "    print(i)"
   ]
  },
  {
   "cell_type": "markdown",
   "metadata": {},
   "source": [
    "Why did I have to write 1 as start explicitly and 5 as end? [Answer](https://skillcrush.com/2013/01/17/why-programmers-start-counting-at-zero/)\n",
    "\n",
    "Now you try to write the same program using a while-loop."
   ]
  },
  {
   "cell_type": "code",
   "execution_count": null,
   "metadata": {
    "collapsed": true
   },
   "outputs": [],
   "source": []
  },
  {
   "cell_type": "markdown",
   "metadata": {},
   "source": [
    "### Practice Questions\n",
    "* Explain what flow controls are and where you would use them\n",
    "* How often does **for i in range(1, 3):** loop?\n",
    "* What is the difference between a for-loop and a while-loop?\n",
    "* Loops are super confusing. Will I ever understand them?\n",
    "* What happens if you write **while True:**?\n",
    "* My code often looks different than the one in the solutions, but I still get the same results. Is this normal?\n"
   ]
  },
  {
   "cell_type": "markdown",
   "metadata": {},
   "source": [
    "## Break and Continue\n",
    "Often it happens that you have a loop where you calculate some stuff in the loop and this changes the way you want the program to run. One possible tool here are the continue and break keywords. In short they do the following:\n",
    "* **Continue**: Ignore the code after the continue and jump back to the start of a loop\n",
    "* **Break**: End the current loop, regardless of all other things and continue with the code below the loop\n",
    "\n",
    "A bit more detailed explanation can be found [here](https://youtu.be/G8ClpHu8DSE).\n",
    "\n",
    "### Practice Questions\n",
    "* Give an example for a case where you might need break\n",
    "* Can you break out of several loops at once?"
   ]
  },
  {
   "cell_type": "markdown",
   "metadata": {},
   "source": [
    "## Import Stuff\n",
    "We now already know most parts of the Python language, so in theory we could write most programs now. However, this would be a lot of work. One of the benefits of Python is its large community and as Python has been around for a while, this community has written lots and lots of useful packages. Those package contain the code to do all kinds of things. Ranging from math function to plotting or reading and writing files. As we use WinPython we already have the most widely used packages. We just have to import them. And in Python this is pretty easy. "
   ]
  },
  {
   "cell_type": "code",
   "execution_count": null,
   "metadata": {
    "collapsed": true
   },
   "outputs": [],
   "source": [
    "import math\n",
    "# now we can use functions of this package\n",
    "print(\"The square root of 9 is \" + str(int(math.sqrt(9))))"
   ]
  },
  {
   "cell_type": "markdown",
   "metadata": {},
   "source": [
    "### Exercise 2\n",
    "Write a program that prints the numbers 1 to 10 using a for loop\n",
    "\n",
    "### Exercise 3\n",
    "The time module provides you with a function also named time. This function returns you the seconds that have passed since 1 January 1970. Write a program that saves the value that the time function gives you in a variable. Then use this value to calculate how many minutes have passed since 1 January 1970 and print it.\n",
    "\n",
    "### Exercise 4\n",
    "Long ago smart greek people had three sticks and they wanted to know if they could form a triangle with those sticks. They found that if any of the sticks is longer than the sum of the other two they could not form a triangle. Write a program that prompts the user for three stick lengths. Then determine if the triangle is valid. Print your results to the user. \n",
    "\n",
    "### Exercise 5\n",
    "Write a program to recreate the following pattern, using loops. \n",
    "\n",
    "Hint: Doing this with a lot of math is the hard way. Be lazy!\n"
   ]
  },
   {
   "cell_type": "code",
   "execution_count": null,
   "metadata": {
    "collapsed": true
   },
   "outputs": [
    "1\n",
    "22\n",
    "333\n",
    "4444\n",
    "55555\n",
    "666666\n",
    "7777777"],
   "source": [
   ...
   ]
  },
  {
   "cell_type": "markdown",
   "metadata": {},
   "source": [
    "### Exercise 6\n",
    "Write a program that has a variable called month and prints the number of days in a month, depending on the value of month.\n",
    "\n",
    "### Exercise 7\n",
    "Let us assume that you have finished your master and started saving money for your first big holiday. You want to know many month you have to save money to be able to afford your wonderful holiday. For this you decide to write a Python program because this will be super helpful in this case!\n",
    "Consider the following:\n",
    "* The program should ask you how much your annual salary will be, how much of this salary you want to save (as a fraction) and how much your holiday will cost. \n",
    "* You need a variable to save current savings you have (starts with 0)\n",
    "* You will have to settle for a annual return **r**. Every month you will receive current_savings*r/12\n",
    "* At the end of each month your current_savings will improve by the returns and the percentage of your monthly salary you wanted to save\n",
    "\n",
    "Hint: A while loop might be quite useful here.\n",
    "\n",
    "An example output looks like this:"
   ]
  },
  {
   "cell_type": "raw",
   "metadata": {},
   "source": [
    "How expensive should the holiday be? 10000\n",
    "\n",
    "How much of your monthly salary do you want to save? 0.05\n",
    "\n",
    "How large is your annual salary? 25000\n",
    "You need to save for 84 month to afford you holiday."
   ]
  }
 ],
 "metadata": {
  "kernelspec": {
   "display_name": "Python 3",
   "language": "python",
   "name": "python3"
  },
  "language_info": {
   "codemirror_mode": {
    "name": "ipython",
    "version": 3
   },
   "file_extension": ".py",
   "mimetype": "text/x-python",
   "name": "python",
   "nbconvert_exporter": "python",
   "pygments_lexer": "ipython3",
   "version": "3.6.1"
  }
 },
 "nbformat": 4,
 "nbformat_minor": 1
}
