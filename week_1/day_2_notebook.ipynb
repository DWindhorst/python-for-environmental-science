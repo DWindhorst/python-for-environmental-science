{
 "cells": [
  {
   "cell_type": "markdown",
   "metadata": {
    "collapsed": true
   },
   "source": [
    "# Python for Environmental Science Day 2\n",
    "## Topics\n",
    "* Boolean Values\n",
    "* Flow Control\n",
    "* Import Stuff"
   ]
  },
  {
   "cell_type": "markdown",
   "metadata": {},
   "source": [
    "## Getting started!\n",
    "As for yesterday, MIT provides a [great video](https://youtu.be/0jljZRnHwOI) that sums up pretty much everything we will cover today. After a little recap on string concatenation (what we already learned yesterday), it covers the basics of flow control (here called branching, yet another name for the same thing is conditionals) and later the basics of loops."
   ]
  },
  {
   "cell_type": "markdown",
   "metadata": {},
   "source": [
    "## Boolean Values\n",
    "Up until now we only used strings and numbers, but missed out on another very important data type in Python: boolean values.\n",
    "Boolean values behave a bit different in comparison two other data types. They can only have two values:\n",
    "* True\n",
    "or\n",
    "* False\n",
    "\n",
    "For a short introduction see [this video](https://youtu.be/9OK32jb_TdI). \n",
    "\n",
    "As you can see boolean values are mostly used to compare things and to determine if variables have the values you expect them to have. To connect them two types of operators exist:\n",
    "* Comparison operators (==, !=, <, >, <=, >=)\n",
    "\n",
    "and\n",
    "\n",
    "* Boolean operators (and, or, not)\n",
    "\n",
    "Comparison operators are mainly used to compare things and boolean operators to connect and negate other statements.\n",
    "To test your understanding here are a bunch of different boolean expressions. Lets go through them together."
   ]
  },
  {
   "cell_type": "code",
   "execution_count": null,
   "metadata": {
    "collapsed": true
   },
   "outputs": [],
   "source": [
    "1 > 0"
   ]
  },
  {
   "cell_type": "code",
   "execution_count": null,
   "metadata": {
    "collapsed": true
   },
   "outputs": [],
   "source": [
    "not 5 == 5"
   ]
  },
  {
   "cell_type": "code",
   "execution_count": null,
   "metadata": {
    "collapsed": true
   },
   "outputs": [],
   "source": [
    "a = 37\n",
    "b = 50\n",
    "c = 1\n",
    "not(a > b and c == d) or c"
   ]
  },
  {
   "cell_type": "code",
   "execution_count": null,
   "metadata": {
    "collapsed": true
   },
   "outputs": [],
   "source": [
    "30 <= 30 and (31 - 15) == 16"
   ]
  },
  {
   "cell_type": "code",
   "execution_count": null,
   "metadata": {},
   "outputs": [],
   "source": [
    "(\"yes\" > \"no\") or (1 and False)"
   ]
  },
  {
   "cell_type": "markdown",
   "metadata": {},
   "source": [
    "## Flow Control\n",
    "### Conditionals\n",
    "Conditionals allow your programs to take different routes. For example you want to have a program that either prints a string or the number of characters in this string. You could outcomment parts of your code to accomplish this. "
   ]
  },
  {
   "cell_type": "code",
   "execution_count": null,
   "metadata": {
    "collapsed": true
   },
   "outputs": [],
   "source": [
    "name = \"Anna\"\n",
    "# print(name)\n",
    "print(len(name))"
   ]
  },
  {
   "cell_type": "markdown",
   "metadata": {},
   "source": [
    "But this a rather unpractical way to do this. Here, the conditionals come into play. There are three types of conditionals in Python:\n",
    "* if\n",
    "* elif\n",
    "* else\n",
    "\n",
    "For an explanation of their uses watch [this video](https://youtu.be/2aA3VBdcl6A) and [here](https://youtu.be/apcI8MkJTOA) (if you did not grasp the concept it in the first one) and if you are still confused [here](https://youtu.be/f4KOjWS_KZs) is yet another one. So, a more logical way to tackle our task could be the following:"
   ]
  },
  {
   "cell_type": "code",
   "execution_count": null,
   "metadata": {},
   "outputs": [],
   "source": [
    "name = \"Anna\"\n",
    "print_name = True\n",
    "if print_name: \n",
    "    print(name)\n",
    "else:\n",
    "    print(len(name))\n",
    "    "
   ]
  },
  {
   "cell_type": "markdown",
   "metadata": {},
   "source": [
    "As mentioned in the videos here an important concept in Python becomes obvious:\n",
    "* Intendation\n",
    "\n",
    "Python is structured using intendations. This just means that Python recognizes all lines in one intendation as one block. So in our example above both print statements are in different blocks.\n",
    "Now you try it. Write a program that can do the following things:\n",
    "* Ask the user for a word\n",
    "* Determine if the word has more than 4 letters\n",
    "* If the word has more than four letters print it. Also, determine if it has exactly 5 letters. \n",
    "* In all cases print how many letters the word has\n",
    "* If it has exactly 5 letters also print a message were you applaud the user for picking such a fine word\n",
    "* Try what happens if you provide the program with an empty string\n",
    "\n",
    "Use Spyder for this. "
   ]
  },
  {
   "cell_type": "markdown",
   "metadata": {},
   "source": [
    "### Loops\n",
    "Here is a little reminder on how the [range function](https://youtu.be/0jljZRnHwOI?t=36m21s) works."
   ]
  }
 ],
 "metadata": {
  "kernelspec": {
   "display_name": "Python 3",
   "language": "python",
   "name": "python3"
  },
  "language_info": {
   "codemirror_mode": {
    "name": "ipython",
    "version": 3
   },
   "file_extension": ".py",
   "mimetype": "text/x-python",
   "name": "python",
   "nbconvert_exporter": "python",
   "pygments_lexer": "ipython3",
   "version": "3.6.1"
  }
 },
 "nbformat": 4,
 "nbformat_minor": 1
}
