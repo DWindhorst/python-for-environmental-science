{
 "cells": [
  {
   "cell_type": "markdown",
   "metadata": {
    "collapsed": true
   },
   "source": [
    "# Python for Environmental Science Day 3\n",
    "## Topics\n",
    "* Functions in Python\n",
    "\n",
    "## What the heck is a function?\n",
    "Functions are time saver. A good programmer is a lazy programmer. If you have the possibility to not write something, it is usually a good idea to do so. And this is were functions come into play. They allow you to recycle code you have alread written. You might not have noticed it, but you have already used funcions. For example math.sqrt() is a function. A simple example for a function would be:"
   ]
  },
  {
   "cell_type": "code",
   "execution_count": 2,
   "metadata": {},
   "outputs": [
    {
     "name": "stdout",
     "output_type": "stream",
     "text": [
      "How do you do, fellow kids?\n",
      "How do you do, fellow kids?\n"
     ]
    }
   ],
   "source": [
    "def say_hello():\n",
    "    print(\"How do you do, fellow kids?\")\n",
    "\n",
    "say_hello()\n",
    "say_hello()"
   ]
  },
  {
   "cell_type": "markdown",
   "metadata": {},
   "source": [
    "So as you can see functions allow you to call code again you have already written in a previous part of your program. \n",
    "\n",
    "Again MIT gives a very good introduction [here](https://youtu.be/MjbuarJ7SE0?t=2m6s).\n",
    "\n",
    "During the talk the concepts of abstraction and decompostion are introduced. Try to explain them in two sentences."
   ]
  }
 ],
 "metadata": {
  "kernelspec": {
   "display_name": "Python 3",
   "language": "python",
   "name": "python3"
  },
  "language_info": {
   "codemirror_mode": {
    "name": "ipython",
    "version": 3
   },
   "file_extension": ".py",
   "mimetype": "text/x-python",
   "name": "python",
   "nbconvert_exporter": "python",
   "pygments_lexer": "ipython3",
   "version": "3.6.1"
  }
 },
 "nbformat": 4,
 "nbformat_minor": 2
}
