{
 "cells": [
  {
   "cell_type": "markdown",
   "metadata": {
    "collapsed": true
   },
   "source": [
    "# Python for Environmental Science Day 3\n",
    "## Topics\n",
    "* Functions in Python\n",
    "\n",
    "## What the heck is a function?\n",
    "Functions are time saver. A good programmer is a lazy programmer. If you have the possibility to not write something, it is usually a good idea to do so. And this is were functions come into play. They allow you to recycle code you have alread written. You might not have noticed it, but you have already used funcions. For example math.sqrt() is a function. A simple example for a function would be:"
   ]
  },
  {
   "cell_type": "code",
   "execution_count": 2,
   "metadata": {
    "scrolled": true
   },
   "outputs": [
    {
     "name": "stdout",
     "output_type": "stream",
     "text": [
      "How do you do, fellow kids?\n",
      "How do you do, fellow kids?\n"
     ]
    }
   ],
   "source": [
    "def say_hello():\n",
    "    print(\"How do you do, fellow kids?\")\n",
    "\n",
    "say_hello()\n",
    "say_hello()"
   ]
  },
  {
   "cell_type": "markdown",
   "metadata": {},
   "source": [
    "So as you can see functions allow you to call code again you have already written in a previous part of your program. \n",
    "\n",
    "Again, MIT gives a very good introduction [here](https://youtu.be/MjbuarJ7SE0?t=2m6s).\n",
    "### Practice Question\n",
    "\n",
    "* During the talk the concepts of abstraction and decompostion are introduced. What do they mean?\n",
    "* What is the scope of a function and what does it do?\n",
    "\n",
    "\n",
    "\n",
    "## Why functions?\n",
    "* Less work, as you can recycle code\n",
    "* Less errors, as you only have to debug once\n",
    "* Allows you to structure your code more easily\n",
    "* Allows other people (and your future self) to understand the code more easily\n",
    "\n",
    "\n",
    "## Function Charateristics\n",
    "A function consists of several parts (as mentioned in the MIT video). Here is a little overview and later we will try to understand them in more depth.\n",
    "\n",
    "\n",
    "* **Name**: What you call the function by\n",
    "* **Parameters**: You can provide functions with variables. Those variables can then be used to compute something\n",
    "* **Docstring**: A docstring allows you to write a little documentation were you explain how the function works (in our stage mainly for your future self)\n",
    "* **Body**: This is were the magic happens, as here is the place for the code itself\n",
    "* **Return values**: You usually create functions to do something that create a result. For example you could create a function that adds two numbers. The problem is that the result is \"trapped\" in our function, as it is deleted once the function terminates. But with the return keyword you can specify that your function should return the results to the main program. If you are confused about return values take a look at [this video](https://youtu.be/PgrlkpleEuw).\n",
    "\n",
    "The following figure explains this visually (except docstrings, which are explained [here](http://www.pythonforbeginners.com/basics/python-docstrings)).\n",
    "\n",
    "![Functions](https://www.miltonmarketing.com/wp-content/uploads/2018/04/LearnaboutprogrammingFunctionsinPython1523299_orig-800x418.png)\n",
    "\n",
    "### Practice Questions\n",
    "\n",
    "* What is the syntax of a docstring?\n",
    "* What things should you write in your docstring?\n",
    "* Explain the concept of return values in your own words.\n",
    "* Can a function have more than one parameter and return value?\n"
   ]
  },
  {
   "cell_type": "code",
   "execution_count": null,
   "metadata": {
    "collapsed": true
   },
   "outputs": [],
   "source": []
  }
 ],
 "metadata": {
  "kernelspec": {
   "display_name": "Python 3",
   "language": "python",
   "name": "python3"
  },
  "language_info": {
   "codemirror_mode": {
    "name": "ipython",
    "version": 3
   },
   "file_extension": ".py",
   "mimetype": "text/x-python",
   "name": "python",
   "nbconvert_exporter": "python",
   "pygments_lexer": "ipython3",
   "version": "3.6.1"
  }
 },
 "nbformat": 4,
 "nbformat_minor": 2
}
