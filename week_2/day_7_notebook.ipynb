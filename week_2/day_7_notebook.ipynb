{
 "cells": [
  {
   "cell_type": "markdown",
   "metadata": {},
   "source": [
    "# Python for Environmental Science Day 7\n",
    "## Topics\n",
    "* Making Nice Plots\n",
    "* Matplotlib Usage\n",
    "* Matplotlib Tips and Tricks"
   ]
  },
  {
   "cell_type": "markdown",
   "metadata": {},
   "source": [
    "## Making Nice Plots\n",
    "This day is meant to cover the usage of matplotlib (and to some extension seaborn), but first I would like to get a concept across that will help you to make nicer plots. The [data-ink ratio](https://youtu.be/JIMUzJzqaA8). This concept helps you to focus your graphics on the most essential parts. The following two bar charts represent the most extreme examples for a very high and a very low data to ink ratio.\n",
    "\n",
    "<img src=\"https://cdn-images-1.medium.com/max/1200/1*s_SdOBsrJizFfKs0m5PKug.png\" alt=\"Drawing\" style=\"width: 500px;\"/ align=\"left\">\n",
    "\n"
   ]
  },
  {
   "cell_type": "markdown",
   "metadata": {},
   "source": [
    "This does not mean that every graphic you make has to be as spartanic as the right one, but you should always think about what part of your graphic are essential to its message. If you want to learn a bit more about this and similar concepts take a look at [this article](https://medium.com/marax-ai/intelligent-signals-visualising-data-df9152c10b00). Also, you might wanna take a look at [this article](http://journals.plos.org/ploscompbiol/article?id=10.1371/journal.pcbi.1003833) for \"10 simple rules for better figures\".\n",
    "\n",
    "### Practice Questions\n",
    "* Explaine the data-ink ratio in your own words. Can you think of a graphic you made yourself that had a bad data-ink ratio?\n",
    "* What is the lie-factor of a graphic (see article)?\n",
    "\n",
    "### Exercise 1\n",
    "Try to find graphics that have a good or bad data-ink ratio, respectively. A good starting point for your search are [data is beautiful](https://www.reddit.com/r/dataisbeautiful/) and [data is ugly](https://www.reddit.com/r/dataisugly/)."
   ]
  },
  {
   "cell_type": "markdown",
   "metadata": {},
   "source": [
    "## Matplotlib Usage\n",
    "After this is out of the way, let us start with the real topic for today: **matplotlib**. matplotlib is the main package in Python for 2D graphics (though it can do a bit 3D as well) and allows you to create publication ready figures with relative ease. For starters take a look at [this video](https://d3c33hcgiwev3.cloudfront.net/K0bxmP0cEeaeKwpzIn5n7A.processed/full/540p/index.mp4?Expires=1531353600&Signature=RTmo5hei4FEpoxcNDxl3iT-vkCdeX49k1AEYv6rMcl9a~bFEacYLVAzOFhQlalP8R6bri2zIBmjA0w-ejCQNe95jdXzttMTC8Wok~zhTF~7Qtk3-wqgc9JqDLoUGF1-4tVEI5Oj5ElYoim4tj8ZYRYhAuWbJo4NWRA9P7u0yLB4_&Key-Pair-Id=APKAJLTNE6QMUY6HBC5A) to get a general feel for the way matplotlib is structured. This video might be a bit confusing for you, but it will help you as we go along. Next watch [this video](https://d3c33hcgiwev3.cloudfront.net/gHvXBv0cEeaI9Q7Pym09lA.processed/full/540p/index.mp4?Expires=1531353600&Signature=bxKyulBNenBaCxD-2COnLVhHfFak~NWydyehiik3pfQVL0z0wlEo1fAK3Lviim0p6cPV8mRRvTJy0zlhDzRZpydPWYTjQfPt3ylNpTX3KDH7eNt7EFL90AXb6W2mLZHvxtBBd0DOly5yhT3xAWQDkaS50ga4nSOo3UfGIxGp-tw_&Key-Pair-Id=APKAJLTNE6QMUY6HBC5A) to get a bit further explanation of the matplotlib concepts and how the most basic plotting works.\n",
    "\n",
    "### Practice Questions\n",
    "* What is the scripting layer of matplotlib and what is it used for?\n",
    "* Why is the scripting layer so useful?\n",
    "* What is difference between a figure, axes and an axis?\n",
    "\n",
    "Have no worries, we will usually use pyplot to make things easier, but it can sometimes be helpful to know what happens behing the scenes of matplotlib. \n",
    "\n",
    "### Most Basic Plotting\n",
    "So, after this introduction let us try a bit of plotting ourselves. As stated in the videos the most basic to plot things in matplotlib is the plot function, which allows you to draw dots or lines to represent your data. First lets start with line."
   ]
  },
  {
   "cell_type": "code",
   "execution_count": null,
   "metadata": {
    "collapsed": true,
    "scrolled": true
   },
   "outputs": [],
   "source": [
    "import matplotlib.pyplot as plt\n",
    "import random\n",
    "# Make the plot reproducible\n",
    "random.seed(1)\n",
    "# Allow plotting in the notebook\n",
    "%matplotlib inline\n",
    "# Create some fake data\n",
    "data1 = [random.randint(0, 30) for i in range(10)]\n",
    "plt.plot(data1, \"-\")"
   ]
  },
  {
   "cell_type": "markdown",
   "metadata": {},
   "source": [
    "But we can easily use the same data and represent them by little stars."
   ]
  },
  {
   "cell_type": "code",
   "execution_count": null,
   "metadata": {
    "collapsed": true,
    "scrolled": true
   },
   "outputs": [],
   "source": [
    "plt.plot(data1, \"*\")"
   ]
  },
  {
   "cell_type": "markdown",
   "metadata": {},
   "source": [
    "Or change the color."
   ]
  },
  {
   "cell_type": "code",
   "execution_count": null,
   "metadata": {
    "collapsed": true,
    "scrolled": true
   },
   "outputs": [],
   "source": [
    "plt.plot(data1, \"-\", color=\"black\")"
   ]
  },
  {
   "cell_type": "markdown",
   "metadata": {},
   "source": [
    "As you can already see Python allows you to specify your figures quite a lot. This is often very helpful, as you can tailor it exactly to your needs, but will also lead you to long stackoverflow sessions to change one minor detail that just could not figure out. If you take a look at [the documentation](https://matplotlib.org/api/_as_gen/matplotlib.pyplot.plot.html) you will see that plot() usually expects a x and y value. However, we did only provide one list. From this plot() infers that this is a kind of series and simply plots the values against their index (which is in this case 0 to 9). \n",
    "\n",
    "**Note**: If we plot inside the notebook the figures are shown instantly. This will not happen if you execute the same code in Spyder. You will have to tell it explicetly that you want to see your figure by invoking **plt.show()**. But get in the habit of calling plt.show() here as well, so you get in the habbit of doing so."
   ]
  },
  {
   "cell_type": "markdown",
   "metadata": {},
   "source": [
    "### Labelling Stuff\n",
    "When you create figures, especially scientific ones, you need to label your axes! This is relatively easy in matplotlib. A bit longer explanation can be found [here](https://youtu.be/aCULcv_IQYw). Basically you just tell pyplot to handle it. "
   ]
  },
  {
   "cell_type": "code",
   "execution_count": null,
   "metadata": {
    "collapsed": true,
    "scrolled": true
   },
   "outputs": [],
   "source": [
    "plt.plot(data1, \"-\", color=\"black\")\n",
    "plt.xlabel(\"Index\")\n",
    "plt.ylabel(\"Data\")\n",
    "# Also label the figure as a whole\n",
    "plt.title(\"A wonderful graph\")\n",
    "plt.show()"
   ]
  },
  {
   "cell_type": "markdown",
   "metadata": {},
   "source": [
    "When you have more than one dataset in a figure it becomes essential to label it, so the readers know what is what. As this is part of almost every figure you will make, matplotlib has an easy integreation for this. Just specify a label for the plot you are creating (as a keyword in the function) and call **plt.legend()**. There are some cases where this approach will not give you the desired results, but stackoverflow will have a solution for you. "
   ]
  },
  {
   "cell_type": "code",
   "execution_count": null,
   "metadata": {
    "collapsed": true,
    "scrolled": true
   },
   "outputs": [],
   "source": [
    "# Create a second dataset to plot also\n",
    "import random\n",
    "random.seed(0)\n",
    "data2 = [random.randint(0, 30) for i in range(10)]\n",
    "# Make the plotting\n",
    "plt.plot(data1, \"-\", color=\"black\", label=\"data1\")\n",
    "plt.plot(data2, \"-\", color=\"red\", label=\"data2\")\n",
    "plt.xlabel(\"Index\")\n",
    "plt.ylabel(\"Data\")\n",
    "# Also label the figure as a whole\n",
    "plt.title(\"Two wonderful graphs\")\n",
    "# And finally simply call the legend \n",
    "plt.legend()\n",
    "plt.show()"
   ]
  },
  {
   "cell_type": "markdown",
   "metadata": {},
   "source": [
    "### Practice Questions\n",
    "* What is an easy way to have subtitles and sublabels in matplotlib?\n",
    "* Can you include scientific notation in labels?"
   ]
  },
  {
   "cell_type": "markdown",
   "metadata": {},
   "source": [
    "### Often used Kinds of Plots\n",
    "In this section we will look at the useful matplotlib figures. But first we need our pokemon dataset again."
   ]
  },
  {
   "cell_type": "code",
   "execution_count": null,
   "metadata": {
    "collapsed": true,
    "scrolled": true
   },
   "outputs": [],
   "source": [
    "import pandas as pd\n",
    "pokemon = pd.read_csv(\"pokemon.csv\")"
   ]
  },
  {
   "cell_type": "markdown",
   "metadata": {},
   "source": [
    "#### Bar Chart\n",
    "After this is out of the way we will take a look at [bar charts and histograms](https://youtu.be/ZyTO4SwhSeE). First let us prepare a part of a dataframe we want to plot. So let us get the max attack values for different 'Type 1' and sort them."
   ]
  },
  {
   "cell_type": "code",
   "execution_count": null,
   "metadata": {
    "collapsed": true,
    "scrolled": true
   },
   "outputs": [],
   "source": [
    "max_attack = pokemon.groupby(\"Type 1\").max().loc[:,\"Attack\"]\n",
    "max_attack"
   ]
  },
  {
   "cell_type": "markdown",
   "metadata": {},
   "source": [
    "And now we can create a barplot with this data. The barplot needs something to indicate where to plot the attack values on the x axis. Therefore, we also extract the types. And we change the rotation of the x-labels, so they are readable.\n",
    "\n",
    "Play around with the rotation to see how it influences the plot. Also try giving it a different color."
   ]
  },
  {
   "cell_type": "code",
   "execution_count": null,
   "metadata": {
    "collapsed": true,
    "scrolled": true
   },
   "outputs": [],
   "source": [
    "types = max_attack.index\n",
    "plt.bar(x=types, height=max_attack)\n",
    "plt.xticks(rotation=90)\n",
    "plt.show()"
   ]
  },
  {
   "cell_type": "markdown",
   "metadata": {},
   "source": [
    "#### Histograms\n",
    "Histograms are often used to look at distributions of things. In our case, let us check out the distribution of defense values in water pokemon. First extract the data."
   ]
  },
  {
   "cell_type": "code",
   "execution_count": null,
   "metadata": {
    "collapsed": true,
    "scrolled": true
   },
   "outputs": [],
   "source": [
    "water_defense = pokemon.loc[pokemon[\"Type 1\"] == \"Water\", \"Defense\"]\n",
    "water_defense"
   ]
  },
  {
   "cell_type": "markdown",
   "metadata": {},
   "source": [
    "After we have the data we can simply call matplotlibs hist() function. "
   ]
  },
  {
   "cell_type": "code",
   "execution_count": null,
   "metadata": {
    "collapsed": true,
    "scrolled": true
   },
   "outputs": [],
   "source": [
    "plt.hist(water_defense)\n",
    "plt.show()"
   ]
  },
  {
   "cell_type": "markdown",
   "metadata": {},
   "source": [
    "This is again a bit rudimentary. So let us make this thing a bit more interesting, by adding labels and changing some properties of the histogram. "
   ]
  },
  {
   "cell_type": "code",
   "execution_count": null,
   "metadata": {
    "collapsed": true,
    "scrolled": true
   },
   "outputs": [],
   "source": [
    "plt.hist(x=water_defense, histtype=\"step\", linestyle=\":\", color=\"black\", bins=15)\n",
    "plt.xlabel(\"Defense Value\")\n",
    "plt.ylabel(\"Count\")\n",
    "plt.title(\"Distribution of Defense Values in Water Pokemon\")\n",
    "plt.show()"
   ]
  },
  {
   "cell_type": "markdown",
   "metadata": {},
   "source": [
    "Again, you can see that matplotlib allows you very easily to change your plots. You will learn to appreciate this feature very soon!"
   ]
  },
  {
   "cell_type": "markdown",
   "metadata": {},
   "source": [
    "#### Scatter Plots\n",
    "Another common plot is the scatter plot. As you might have already noticed the matplotlib functions all work very similar. Therefore, I will keep this short. But if you need additional informations take a look at the [documentation of pyplot](https://matplotlib.org/api/_as_gen/matplotlib.pyplot.html#module-matplotlib.pyplot). First we need some data to plot against each other. Let us look at attack and speed of all pokemon. "
   ]
  },
  {
   "cell_type": "code",
   "execution_count": null,
   "metadata": {
    "collapsed": true,
    "scrolled": true
   },
   "outputs": [],
   "source": [
    "attack = pokemon[\"Attack\"]\n",
    "speed = pokemon[\"Speed\"]\n",
    "plt.scatter(x=attack, y=speed, alpha=0.5)\n",
    "plt.xlabel(\"Attack Value\")\n",
    "plt.ylabel(\"Speed Value\")\n",
    "plt.title(\"Scatter Plot Attack vs. Speed for all Pokemon\")\n",
    "plt.show()"
   ]
  },
  {
   "cell_type": "markdown",
   "metadata": {},
   "source": [
    "### Practice Questions\n",
    "* What does the 'alpha' keyword do and what is its use?\n",
    "* What is the difference between a barplot and a histogram?\n",
    "* What are the advantages of a boxplot over a barplot?"
   ]
  },
  {
   "cell_type": "markdown",
   "metadata": {},
   "source": [
    "### Exercise 2\n",
    "Take a look at [the documentation](https://matplotlib.org/api/_as_gen/matplotlib.pyplot.boxplot.html#matplotlib.pyplot.boxplot) of the boxplot in matplotlib. Use this and your knowledge of pandas to create a figure that contains a boxplot for all meaningful attributes of the pokemon dataset."
   ]
  },
  {
   "cell_type": "markdown",
   "metadata": {},
   "source": [
    "### Plotting several Attributes in one Plot\n",
    "Often you want to compare the same attribute for different samples, e.g. comparing the length of two kinds of trees. This can be done in matplotlib as well, but tends to be a bit tricky, at least for bar charts. To save you the trouble of looking for this, here is a working solution, which is from this [stackoverflow question](https://stackoverflow.com/questions/48157735/plot-multiple-bars-for-categorical-data?noredirect=1&lq=1)."
   ]
  },
  {
   "cell_type": "code",
   "execution_count": null,
   "metadata": {
    "collapsed": true,
    "scrolled": true
   },
   "outputs": [],
   "source": [
    "max_attack = pokemon.groupby(\"Type 1\").max().loc[:,\"Attack\"]\n",
    "max_defense = pokemon.groupby(\"Type 1\").max().loc[:,\"Defense\"]\n",
    "types = max_attack.index\n",
    "\n",
    "def subcategorybar(X, vals, width=0.8):\n",
    "    import numpy as np\n",
    "    n = len(vals)\n",
    "    _X = np.arange(len(X))\n",
    "    for i in range(n):\n",
    "        plt.bar(_X - width/2. + i/float(n)*width, vals[i], \n",
    "                width=width/float(n), align=\"edge\")   \n",
    "    plt.xticks(_X, X)\n",
    "\n",
    "subcategorybar(types, [max_attack, max_defense])\n",
    "\n",
    "plt.xticks(rotation=90)\n",
    "plt.show()"
   ]
  },
  {
   "cell_type": "markdown",
   "metadata": {},
   "source": [
    "It is way easier when you use plots were the drawing does not overlap as in bar plots, but there are probably better ways to visualize it. "
   ]
  },
  {
   "cell_type": "code",
   "execution_count": null,
   "metadata": {
    "collapsed": true,
    "scrolled": true
   },
   "outputs": [],
   "source": [
    "plt.plot(max_attack, \"o\", label=\"attack\", color=\"red\")\n",
    "plt.plot(max_defense, \"o\", label=\"defense\", color=\"blue\")\n",
    "plt.xticks(rotation=90)\n",
    "plt.show()"
   ]
  },
  {
   "cell_type": "markdown",
   "metadata": {},
   "source": [
    "### Working with Subplots\n",
    "Often those kinds of problems are better tackled with subplots. matplotlib allows you to plot several subplots in one figure. Take a look at [this video](https://d3c33hcgiwev3.cloudfront.net/XD9_O_0eEeahPwr4NTFsvg.processed/full/540p/index.mp4?Expires=1531353600&Signature=UqQ~P5AlYgNTl7fDJ2DQyVfPevH2Jou6dyeGGDtAlc7ZcGMKWbY~B5C6AfOGc2zpctJSdxYpzQx9epR26y0IPVgbjgbl3aZhc8zIgjLbDGwlBVdsDwucAMo0hQuol2cRP4iKk7UwtoXlAgBAYjcEy-aZcM7Rti7sd65Qv9gr7XU_&Key-Pair-Id=APKAJLTNE6QMUY6HBC5A) and [this question](https://stackoverflow.com/questions/31726643/how-do-i-get-multiple-subplots-in-matplotlib) to get a first understanding. Then let us think about what kind of figure might profit from several subplots next to each other. My idea would be to make four subplots and compare attack to defense, speed, special attack and special defense respectively. First let us extract the data we need. "
   ]
  },
  {
   "cell_type": "code",
   "execution_count": null,
   "metadata": {
    "collapsed": true,
    "scrolled": true
   },
   "outputs": [],
   "source": [
    "attack = pokemon[\"Attack\"]\n",
    "speed = pokemon[\"Speed\"]\n",
    "special_attack = pokemon[\"Sp. Atk\"]\n",
    "special_defense = pokemon[\"Sp. Def\"]\n",
    "defense = pokemon[\"Defense\"]"
   ]
  },
  {
   "cell_type": "markdown",
   "metadata": {},
   "source": [
    "Next we create our subplots. Usually it is better to create all the subplots you need first and then plot, instead of creating one subplot at a time, as it makes for cleaner programming. As we want four subplots, two rows and two columns of subplots are needed. "
   ]
  },
  {
   "cell_type": "code",
   "execution_count": null,
   "metadata": {
    "collapsed": true,
    "scrolled": true
   },
   "outputs": [],
   "source": [
    "fig, ax = plt.subplots(nrows=2, ncols=2, sharex=True, sharey=True)\n",
    "ax[0,0].scatter(attack, defense, alpha=0.2)\n",
    "ax[0,0].set_title(\"Attack vs. Defense\")\n",
    "ax[0,1].scatter(attack, speed, alpha=0.2)\n",
    "ax[0,1].set_title(\"Attack vs Speed\")\n",
    "ax[1,0].scatter(attack, special_attack, alpha=0.2)\n",
    "ax[1,0].set_title(\"Attack vs Special Attack\")\n",
    "ax[1,1].scatter(attack, special_defense, alpha=0.2)\n",
    "ax[1,1].set_title(\"Attack vs Special Defense\")\n",
    "plt.show()"
   ]
  },
  {
   "cell_type": "markdown",
   "metadata": {},
   "source": [
    "Now our four subbplots are stored in ax in the same way we see them. Meaning the left upper subplot is stored in ax[0,0], the upper right in ax[0,1], the lower left in ax[1,0] and the lower left in ax[1,1]. With this knowledge we can access ax to plot our scatterplots. \n",
    "\n",
    "In additon, we learned that a linear relationship of attack can be found for all other four attributes. However, it is not a very strong one. "
   ]
  },
  {
   "cell_type": "markdown",
   "metadata": {},
   "source": [
    "### Practice Questions\n",
    "* What problems can occur when you do not use 'sharex' and 'sharey'?\n",
    "* How would you add a x and y label to the plot above?\n",
    "* Find out what plt.close() does and why it might be useful in the exercises.\n",
    "\n",
    "### Saving your Figures\n",
    "Saving your files in matplotlib is easy. You simply have to call it with **plt.savefig()** and provide a name for the function. This will save the current figure in your working directory. Here are a few additional tips what savefig can do and what makes your saved figures nicer:"
   ]
  },
  {
   "cell_type": "code",
   "execution_count": null,
   "metadata": {
    "collapsed": true,
    "scrolled": true
   },
   "outputs": [],
   "source": [
    "plt.plot([1,0], [2,3], linestyle=\":\")\n",
    "# Get the current figure, so you can alter its properties\n",
    "fig = plt.gcf()\n",
    "# Change the size of the figure to adjust it to your needs (play around)\n",
    "fig.set_size_inches(1,2)\n",
    "# Sometimes (especially with subplots) the default saved images are cropped off at the edges\n",
    "# fig.tight_layout() corrects this\n",
    "fig.tight_layout()\n",
    "\n",
    "# Now let us save the figure. There are many keywords you can use but for me the most helpful \n",
    "# are dpi (sets the resolution of your figure), bbox_inches (helps remove useless whitespace around the figure)\n",
    "# and transparent (saves the figure without background)\n",
    "plt.savefig(\"simple.png\", dpi=300, bbox_inches=\"tight\", transparent=True)"
   ]
  },
  {
   "cell_type": "markdown",
   "metadata": {},
   "source": [
    "### Exercise 3\n",
    "Download [this dataset](https://www.kaggle.com/dorbicycle/world-foodfeed-production) from kaggle and read it in. \n",
    "A description of the content can be found [here](https://www.kaggle.com/dorbicycle/world-foodfeed-production/home). \n",
    "\n",
    "Do the following:\n",
    "* Let pandas describe the dataset (include=\"all\") to give you a feeling for it and to determine if you read in everything correctly\n",
    "* Print all the unique values for the 'Item' column to see what there is (convert it so a list to see all)\n",
    "* Make a meaningful figure that:\n",
    "    * shows the total consumption of food and feed over the whole time period (for every year, not as a total).\n",
    "    * compares consumption of barley for food and for feed in Afghanistan in the year 1961.\n",
    "    * shows the 50 countries that produced the most food and feed combined for the whole time period (this is probably a bit easier if you use pandas plotting function). \n",
    "    * explores if there is a linear correlation between food and feed production for the whole timeperiod in all countries.\n",
    "    * explores if the soybean production 2000 to 2009 is larger in the northern or southern hemisphere (keep the latitude in mind). Do this also for the time period 1990 to 1999. Plot both figures in a subplot next to each other. \n",
    "    * shows the distribution of the production of all food oils combined (by country, in one total per country) for the year 2000. [This](https://stackoverflow.com/questions/11350770/pandas-dataframe-select-by-partial-string) might be helpful. \n",
    "\n",
    "Hint: Some categorical data will be identified by pandas as numeric. Correct this misunderstanding.\n",
    "\n",
    "Hint: This will also you require you to work with pandas a lot. Also, this exercise might take you a while, but will help you realize that the tools you learned are enough to explore a new dataset on your own :)\n",
    "\n",
    "Hint: Reading the csv in will probably raise a Unicode Error. Stackoverflow will help you!\n",
    "\n",
    "Hint: If you want something funny to cheer you up during this long exercise type the following in your console:"
   ]
  },
  {
   "cell_type": "code",
   "execution_count": null,
   "metadata": {
    "collapsed": true,
    "scrolled": true
   },
   "outputs": [],
   "source": [
    "import antigravity"
   ]
  },
  {
   "cell_type": "markdown",
   "metadata": {},
   "source": [
    "## Matplotlib Tips and Tricks\n",
    "During my usage of matplotlib I came across a few things that help me making figure that I want to share with you. \n",
    "\n",
    "### Seaborn\n",
    "[Seaborn](https://seaborn.pydata.org/) is a package that builts upon matplotlib and allows you to make some very nice figures. For exampel this one here is created with seaborn:\n",
    "\n",
    "<img src=\"https://seaborn.pydata.org/_images/kde_joyplot.png\" alt=\"Drawing\" style=\"width: 500px;\"/ align=\"left\">"
   ]
  },
  {
   "cell_type": "markdown",
   "metadata": {},
   "source": [
    "In general I find the art style and default color palette of seaborn much more appealing. If you want to have your matplotlib plots look more like seaborn, simply import seaborn at the beginning of your script. It will override some of the matplotlib defaults. \n",
    "\n",
    "### Some Commands for a better Data-Ink Ratio\n",
    "When I introduced the concept of data-ink ratio at the beginning of the notebook, you might have wondered how you can include this concept in your coding. Here are a few tips:\n",
    "* Use the alpha keyword more often. With a clever usage you can highlight the most important parts of your plot\n",
    "* Get rid of gridlines \n",
    "* Get rid of borders\n",
    "* Use alpha also on labels \n",
    "\n",
    "So now let us try this with a simple figure:\n",
    "\n",
    "\n"
   ]
  },
  {
   "cell_type": "code",
   "execution_count": null,
   "metadata": {
    "collapsed": true,
    "scrolled": true
   },
   "outputs": [],
   "source": [
    "plt.plot([1,0], [2,3], linestyle=\":\")\n",
    "plt.grid(True)\n",
    "plt.xlabel(\"X\")\n",
    "plt.ylabel(\"Y\")\n",
    "plt.title(\"X and Y\")\n",
    "plt.show()"
   ]
  },
  {
   "cell_type": "markdown",
   "metadata": {},
   "source": [
    "And now with all the advises mentioned above:"
   ]
  },
  {
   "cell_type": "code",
   "execution_count": null,
   "metadata": {
    "collapsed": true,
    "scrolled": true
   },
   "outputs": [],
   "source": [
    "plt.plot([1,0], [2,3], linestyle=\":\")\n",
    "# Remove grid\n",
    "plt.grid(False)\n",
    "# Apply alpha\n",
    "alpha = 0.6\n",
    "plt.xlabel(\"X\", alpha=alpha)\n",
    "plt.ylabel(\"Y\", alpha=alpha)\n",
    "plt.title(\"X and Y\", alpha=alpha)\n",
    "# Remove the borders\n",
    "ax = plt.gca()\n",
    "for spine in ax.spines.values():\n",
    "    spine.set_visible(False)\n",
    "# Also use alpha on the ticklabels\n",
    "plt.setp(ax.get_yticklabels(), alpha=alpha)\n",
    "plt.setp(ax.get_xticklabels(), alpha=alpha)\n",
    "plt.show()"
   ]
  },
  {
   "cell_type": "markdown",
   "metadata": {},
   "source": [
    "You do not have to make all your figures as barebone as this one, but I think it cannot hurt to know the tools. \n",
    "\n",
    "### xkcd style\n",
    "You probably know [xkcd comics](https://xkcd.com/). If you like the artstyle you can simply activate in in your plots by calling **plt.xkcd()** at the beginning of your code. This makes your plots look like this:\n",
    "\n",
    "<img src=\"https://matplotlib.org/xkcd/_images/xkcd_01.png\" alt=\"Drawing\" style=\"width: 500px;\"/ align=\"left\">"
   ]
  },
  {
   "cell_type": "markdown",
   "metadata": {},
   "source": [
    "## Final Advise\n",
    "Get used to it!\n",
    "\n",
    "<img src=\"https://cdn-images-1.medium.com/max/1600/1*IpediaLpieKBR_jS0nmQdA.jpeg\" alt=\"Drawing\" style=\"width: 500px;\"/ align=\"left\">\n"
   ]
  }
 ],
 "metadata": {
  "kernelspec": {
   "display_name": "Python 3",
   "language": "python",
   "name": "python3"
  },
  "language_info": {
   "codemirror_mode": {
    "name": "ipython",
    "version": 3
   },
   "file_extension": ".py",
   "mimetype": "text/x-python",
   "name": "python",
   "nbconvert_exporter": "python",
   "pygments_lexer": "ipython3",
   "version": "3.6.1"
  }
 },
 "nbformat": 4,
 "nbformat_minor": 2
}
