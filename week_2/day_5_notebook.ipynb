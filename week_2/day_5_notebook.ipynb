{
 "cells": [
  {
   "cell_type": "markdown",
   "metadata": {},
   "source": [
    "# Python for Environmental Science Day 5\n",
    "## Topics\n",
    "* String Manipulation\n",
    "* Datetime\n",
    "* Reading and Writing\n"
   ]
  },
  {
   "cell_type": "markdown",
   "metadata": {},
   "source": [
    "## String Manipulation\n",
    "Strings in Python are a bit special, because they behave like a list in many regards. For example you can get slices of strings. "
   ]
  },
  {
   "cell_type": "code",
   "execution_count": null,
   "metadata": {},
   "outputs": [],
   "source": [
    "name = \"Paula\"\n",
    "print(name[1:3])"
   ]
  },
  {
   "cell_type": "markdown",
   "metadata": {},
   "source": [
    "You can loop over them."
   ]
  },
  {
   "cell_type": "code",
   "execution_count": null,
   "metadata": {},
   "outputs": [],
   "source": [
    "for character in \"banana\":\n",
    "    print(character)"
   ]
  },
  {
   "cell_type": "markdown",
   "metadata": {},
   "source": [
    "And a large quantity of special functions exists, that merely handle strings. They are usually called from the string itself."
   ]
  },
  {
   "cell_type": "code",
   "execution_count": null,
   "metadata": {},
   "outputs": [],
   "source": [
    "spell = \"fireball\"\n",
    "print(spell.capitalize())\n",
    "print(spell.upper())"
   ]
  },
  {
   "cell_type": "markdown",
   "metadata": {},
   "source": [
    "So you see that you can do much with strings. But there is one thing you cannot do: change parts of them. Strings are immutable. This makes them very handy as dictionary keys. \n",
    "\n",
    "To get a further introduction to strings take a look those videos:\n",
    "\n",
    "* [Usage of \" \" and ' '](https://youtu.be/iAzShkKzpJo)\n",
    "* [Indexing, loops](https://youtu.be/SE4P7IVCunE) (you can stop watching at 21.30 min ... or continue watching if you want to learn a bit about computer science)\n",
    "* [Getting nicer string output](https://youtu.be/jA5LW3bR0Us)\n",
    "* [Escape characters](https://youtu.be/ktpW7NESuXA)\n",
    "\n",
    "And take a look at [this text](https://docs.python.org/2.4/lib/string-methods.html) to get an overview of string methods.\n"
   ]
  },
  {
   "cell_type": "markdown",
   "metadata": {},
   "source": [
    "### Practice Questions\n",
    "* What are escape characters?\n",
    "* Which purpose serve \\n and \\t?\n",
    "* Would the following line throw an error?"
   ]
  },
  {
   "cell_type": "code",
   "execution_count": null,
   "metadata": {
    "collapsed": true
   },
   "outputs": [],
   "source": [
    "print('I'm learning to program')"
   ]
  },
  {
   "cell_type": "markdown",
   "metadata": {},
   "source": []
  }
 ],
 "metadata": {
  "kernelspec": {
   "display_name": "Python 3",
   "language": "python",
   "name": "python3"
  },
  "language_info": {
   "codemirror_mode": {
    "name": "ipython",
    "version": 3
   },
   "file_extension": ".py",
   "mimetype": "text/x-python",
   "name": "python",
   "nbconvert_exporter": "python",
   "pygments_lexer": "ipython3",
   "version": "3.6.1"
  }
 },
 "nbformat": 4,
 "nbformat_minor": 2
}
