{
 "cells": [
  {
   "cell_type": "markdown",
   "metadata": {},
   "source": [
    "# Python for Environmental Science Day 6\n",
    "## Topics\n",
    "* Pandas\n"
   ]
  },
  {
   "cell_type": "markdown",
   "metadata": {},
   "source": [
    "## Disclaimer\n",
    "Foremost, I have to inform you that [pandas](https://www.quora.com/Why-is-the-pandas-Python-library-named-pandas) has nothing to do with [pandas](https://en.wikipedia.org/wiki/Giant_panda). Sorry about that. Secondly, I have to tell you that pandas can be a bit confusing at times and I still haven't figured out everything myself. However, I will give my best to teach you the things I know and those I should know about pandas. Also the exercises here might take us two days instead of one. We'll see. "
   ]
  },
  {
   "cell_type": "markdown",
   "metadata": {},
   "source": [
    "## What is pandas?\n",
    "You know [spreadsheets](https://en.wikipedia.org/wiki/Spreadsheet), right? \n",
    "\n",
    "<img src=\"https://i.pinimg.com/originals/04/5b/91/045b9193b35a53ea001963032614e599.jpg\" alt=\"Drawing\" style=\"width: 250px;\"/ align=\"left\">"
   ]
  },
  {
   "cell_type": "markdown",
   "metadata": {},
   "source": [
    "\n",
    "Basically pandas does the same, but a bit more abstract and way better. Today you will learn how to read data into pandas and work with it in meaningful ways. When you import pandas it is convention to do it like this:"
   ]
  },
  {
   "cell_type": "code",
   "execution_count": 4,
   "metadata": {
    "collapsed": true
   },
   "outputs": [],
   "source": [
    "import pandas as pd"
   ]
  },
  {
   "cell_type": "markdown",
   "metadata": {},
   "source": [
    "First, take a look at [this video](https://youtu.be/CmorAWRsCAw) to get a introduction to pandas and why it is useful.\n",
    "\n",
    "### Practice Questions\n",
    "* What is the advantage of pandas of regular spreadsheets like excel?\n",
    "* What is data wrangling?\n",
    "\n",
    "In the following sections we will use the well known [iris dataset](https://en.wikipedia.org/wiki/Iris_flower_data_set) to explore pandas a bit more."
   ]
  },
  {
   "cell_type": "code",
   "execution_count": 28,
   "metadata": {},
   "outputs": [
    {
     "data": {
      "text/html": [
       "<div>\n",
       "<style scoped>\n",
       "    .dataframe tbody tr th:only-of-type {\n",
       "        vertical-align: middle;\n",
       "    }\n",
       "\n",
       "    .dataframe tbody tr th {\n",
       "        vertical-align: top;\n",
       "    }\n",
       "\n",
       "    .dataframe thead th {\n",
       "        text-align: right;\n",
       "    }\n",
       "</style>\n",
       "<table border=\"1\" class=\"dataframe\">\n",
       "  <thead>\n",
       "    <tr style=\"text-align: right;\">\n",
       "      <th></th>\n",
       "      <th>sepal length (cm)</th>\n",
       "      <th>sepal width (cm)</th>\n",
       "      <th>petal length (cm)</th>\n",
       "      <th>petal width (cm)</th>\n",
       "      <th>target</th>\n",
       "    </tr>\n",
       "  </thead>\n",
       "  <tbody>\n",
       "    <tr>\n",
       "      <th>0</th>\n",
       "      <td>5.1</td>\n",
       "      <td>3.5</td>\n",
       "      <td>1.4</td>\n",
       "      <td>0.2</td>\n",
       "      <td>0.0</td>\n",
       "    </tr>\n",
       "    <tr>\n",
       "      <th>1</th>\n",
       "      <td>4.9</td>\n",
       "      <td>3.0</td>\n",
       "      <td>1.4</td>\n",
       "      <td>0.2</td>\n",
       "      <td>0.0</td>\n",
       "    </tr>\n",
       "    <tr>\n",
       "      <th>2</th>\n",
       "      <td>4.7</td>\n",
       "      <td>3.2</td>\n",
       "      <td>1.3</td>\n",
       "      <td>0.2</td>\n",
       "      <td>0.0</td>\n",
       "    </tr>\n",
       "    <tr>\n",
       "      <th>3</th>\n",
       "      <td>4.6</td>\n",
       "      <td>3.1</td>\n",
       "      <td>1.5</td>\n",
       "      <td>0.2</td>\n",
       "      <td>0.0</td>\n",
       "    </tr>\n",
       "    <tr>\n",
       "      <th>4</th>\n",
       "      <td>5.0</td>\n",
       "      <td>3.6</td>\n",
       "      <td>1.4</td>\n",
       "      <td>0.2</td>\n",
       "      <td>0.0</td>\n",
       "    </tr>\n",
       "  </tbody>\n",
       "</table>\n",
       "</div>"
      ],
      "text/plain": [
       "   sepal length (cm)  sepal width (cm)  petal length (cm)  petal width (cm)  \\\n",
       "0                5.1               3.5                1.4               0.2   \n",
       "1                4.9               3.0                1.4               0.2   \n",
       "2                4.7               3.2                1.3               0.2   \n",
       "3                4.6               3.1                1.5               0.2   \n",
       "4                5.0               3.6                1.4               0.2   \n",
       "\n",
       "   target  \n",
       "0     0.0  \n",
       "1     0.0  \n",
       "2     0.0  \n",
       "3     0.0  \n",
       "4     0.0  "
      ]
     },
     "execution_count": 28,
     "metadata": {},
     "output_type": "execute_result"
    }
   ],
   "source": [
    "# Do not worry if those lines confuse you. \n",
    "# They are only needed to get some data to work with and you do not need to understand them.\n",
    "# If you are curious take a look here:\n",
    "# https://stackoverflow.com/questions/38105539/how-to-convert-a-scikit-learn-dataset-to-a-pandas-dataset\n",
    "import numpy as np\n",
    "from sklearn import datasets\n",
    "\n",
    "def load_iris():\n",
    "    \"\"\"Loads the iris dataset and returns it as a dataframe\"\"\"\n",
    "    iris = datasets.load_iris()\n",
    "    iris_df = pd.DataFrame(data= np.c_[iris['data'], iris['target']],\n",
    "                         columns= iris['feature_names'] + ['target'])\n",
    "    return iris_df\n",
    "\n",
    "iris_df = load_iris()\n",
    "iris_df.head()"
   ]
  },
  {
   "cell_type": "markdown",
   "metadata": {},
   "source": [
    "As you can see it looks pretty similar to excel at first glance.\n",
    "\n",
    "After watching the video try to calculate the median of the column \"sepal width (cm)\"."
   ]
  },
  {
   "cell_type": "code",
   "execution_count": null,
   "metadata": {
    "collapsed": true
   },
   "outputs": [],
   "source": []
  },
  {
   "cell_type": "markdown",
   "metadata": {},
   "source": [
    "## Rows and Columns\n",
    "As I always confuse them, here is a little reminder on rows and columns:\n",
    "\n",
    "<img src=\"https://qph.fs.quoracdn.net/main-qimg-2c10ea6a9bdf9c6ae2c9031fb15c6723\" alt=\"Drawing\" style=\"width: 250px;\"/ align=\"left\">\n"
   ]
  },
  {
   "cell_type": "markdown",
   "metadata": {},
   "source": [
    "## Dataframe Basics\n",
    "Take a look at [this video](https://youtu.be/F6kmIpWWEdU) to get a basic overview of the dataframe data strucure. \n"
   ]
  },
  {
   "cell_type": "markdown",
   "metadata": {},
   "source": [
    "### Practice Questions\n",
    "* What is the \"shape\" of a dataframe?\n",
    "* How can you get the column names of a dataframe?\n",
    "* What is the difference between a series and a dataframe?"
   ]
  },
  {
   "cell_type": "markdown",
   "metadata": {},
   "source": [
    "### Accessing parts of dataframes\n",
    "When you have collected and cleaned your data you want to do something with it. The first thing is usually looking at it. So lets take a look at a few ways to access your dataframe.\n",
    "* Access a certain subset of rows"
   ]
  },
  {
   "cell_type": "code",
   "execution_count": 10,
   "metadata": {},
   "outputs": [
    {
     "data": {
      "text/html": [
       "<div>\n",
       "<style scoped>\n",
       "    .dataframe tbody tr th:only-of-type {\n",
       "        vertical-align: middle;\n",
       "    }\n",
       "\n",
       "    .dataframe tbody tr th {\n",
       "        vertical-align: top;\n",
       "    }\n",
       "\n",
       "    .dataframe thead th {\n",
       "        text-align: right;\n",
       "    }\n",
       "</style>\n",
       "<table border=\"1\" class=\"dataframe\">\n",
       "  <thead>\n",
       "    <tr style=\"text-align: right;\">\n",
       "      <th></th>\n",
       "      <th>sepal length (cm)</th>\n",
       "      <th>sepal width (cm)</th>\n",
       "      <th>petal length (cm)</th>\n",
       "      <th>petal width (cm)</th>\n",
       "      <th>target</th>\n",
       "    </tr>\n",
       "  </thead>\n",
       "  <tbody>\n",
       "    <tr>\n",
       "      <th>1</th>\n",
       "      <td>4.9</td>\n",
       "      <td>3.0</td>\n",
       "      <td>1.4</td>\n",
       "      <td>0.2</td>\n",
       "      <td>0.0</td>\n",
       "    </tr>\n",
       "    <tr>\n",
       "      <th>2</th>\n",
       "      <td>4.7</td>\n",
       "      <td>3.2</td>\n",
       "      <td>1.3</td>\n",
       "      <td>0.2</td>\n",
       "      <td>0.0</td>\n",
       "    </tr>\n",
       "  </tbody>\n",
       "</table>\n",
       "</div>"
      ],
      "text/plain": [
       "   sepal length (cm)  sepal width (cm)  petal length (cm)  petal width (cm)  \\\n",
       "1                4.9               3.0                1.4               0.2   \n",
       "2                4.7               3.2                1.3               0.2   \n",
       "\n",
       "   target  \n",
       "1     0.0  \n",
       "2     0.0  "
      ]
     },
     "execution_count": 10,
     "metadata": {},
     "output_type": "execute_result"
    }
   ],
   "source": [
    "# Simply use slicing, as you already learned with lists\n",
    "iris_df[1:3]"
   ]
  },
  {
   "cell_type": "markdown",
   "metadata": {},
   "source": [
    "* Access a column"
   ]
  },
  {
   "cell_type": "code",
   "execution_count": 15,
   "metadata": {},
   "outputs": [
    {
     "data": {
      "text/plain": [
       "0    3.5\n",
       "1    3.0\n",
       "2    3.2\n",
       "3    3.1\n",
       "4    3.6\n",
       "Name: sepal width (cm), dtype: float64"
      ]
     },
     "execution_count": 15,
     "metadata": {},
     "output_type": "execute_result"
    }
   ],
   "source": [
    "# Simply use the name in square brackets\n",
    "# The .head() function is not neccesary for this, but it is nicer to look at. Try the line without it. \n",
    "iris_df[\"sepal width (cm)\"].head()"
   ]
  },
  {
   "cell_type": "markdown",
   "metadata": {},
   "source": [
    "The thing we got back from pandas when we asked for a certain column was a series. "
   ]
  },
  {
   "cell_type": "code",
   "execution_count": 16,
   "metadata": {},
   "outputs": [
    {
     "data": {
      "text/plain": [
       "pandas.core.series.Series"
      ]
     },
     "execution_count": 16,
     "metadata": {},
     "output_type": "execute_result"
    }
   ],
   "source": [
    "type(iris_df[\"sepal width (cm)\"])"
   ]
  },
  {
   "cell_type": "markdown",
   "metadata": {},
   "source": [
    "This ought not confuse you. [Simply put](https://stackoverflow.com/questions/26047209/what-is-the-difference-between-a-pandas-series-and-a-single-column-dataframe) \"a series is a datastructure for a single column of a dataframe\" and a dataframe \"can be thought of as a dict-like container for series objects\".\n",
    "\n",
    "* Access several columns at once"
   ]
  },
  {
   "cell_type": "code",
   "execution_count": 17,
   "metadata": {},
   "outputs": [
    {
     "data": {
      "text/html": [
       "<div>\n",
       "<style scoped>\n",
       "    .dataframe tbody tr th:only-of-type {\n",
       "        vertical-align: middle;\n",
       "    }\n",
       "\n",
       "    .dataframe tbody tr th {\n",
       "        vertical-align: top;\n",
       "    }\n",
       "\n",
       "    .dataframe thead th {\n",
       "        text-align: right;\n",
       "    }\n",
       "</style>\n",
       "<table border=\"1\" class=\"dataframe\">\n",
       "  <thead>\n",
       "    <tr style=\"text-align: right;\">\n",
       "      <th></th>\n",
       "      <th>sepal width (cm)</th>\n",
       "      <th>sepal length (cm)</th>\n",
       "    </tr>\n",
       "  </thead>\n",
       "  <tbody>\n",
       "    <tr>\n",
       "      <th>0</th>\n",
       "      <td>3.5</td>\n",
       "      <td>5.1</td>\n",
       "    </tr>\n",
       "    <tr>\n",
       "      <th>1</th>\n",
       "      <td>3.0</td>\n",
       "      <td>4.9</td>\n",
       "    </tr>\n",
       "    <tr>\n",
       "      <th>2</th>\n",
       "      <td>3.2</td>\n",
       "      <td>4.7</td>\n",
       "    </tr>\n",
       "    <tr>\n",
       "      <th>3</th>\n",
       "      <td>3.1</td>\n",
       "      <td>4.6</td>\n",
       "    </tr>\n",
       "    <tr>\n",
       "      <th>4</th>\n",
       "      <td>3.6</td>\n",
       "      <td>5.0</td>\n",
       "    </tr>\n",
       "  </tbody>\n",
       "</table>\n",
       "</div>"
      ],
      "text/plain": [
       "   sepal width (cm)  sepal length (cm)\n",
       "0               3.5                5.1\n",
       "1               3.0                4.9\n",
       "2               3.2                4.7\n",
       "3               3.1                4.6\n",
       "4               3.6                5.0"
      ]
     },
     "execution_count": 17,
     "metadata": {},
     "output_type": "execute_result"
    }
   ],
   "source": [
    "# Simply create a list of the columns you want to access\n",
    "cols = [\"sepal width (cm)\", \"sepal length (cm)\"]\n",
    "iris_df[cols].head()"
   ]
  },
  {
   "cell_type": "markdown",
   "metadata": {},
   "source": [
    "### Simple Calculations\n",
    "As the dataframe contains data you want to work with, the most powerful property of pandas is the easy usage of functions to calculate new informations. The most useful to get a quick overview for a dataframe is .describe(), which will give you the most common describers of data like mean or max values."
   ]
  },
  {
   "cell_type": "code",
   "execution_count": 18,
   "metadata": {},
   "outputs": [
    {
     "data": {
      "text/html": [
       "<div>\n",
       "<style scoped>\n",
       "    .dataframe tbody tr th:only-of-type {\n",
       "        vertical-align: middle;\n",
       "    }\n",
       "\n",
       "    .dataframe tbody tr th {\n",
       "        vertical-align: top;\n",
       "    }\n",
       "\n",
       "    .dataframe thead th {\n",
       "        text-align: right;\n",
       "    }\n",
       "</style>\n",
       "<table border=\"1\" class=\"dataframe\">\n",
       "  <thead>\n",
       "    <tr style=\"text-align: right;\">\n",
       "      <th></th>\n",
       "      <th>sepal length (cm)</th>\n",
       "      <th>sepal width (cm)</th>\n",
       "      <th>petal length (cm)</th>\n",
       "      <th>petal width (cm)</th>\n",
       "      <th>target</th>\n",
       "    </tr>\n",
       "  </thead>\n",
       "  <tbody>\n",
       "    <tr>\n",
       "      <th>count</th>\n",
       "      <td>150.000000</td>\n",
       "      <td>150.000000</td>\n",
       "      <td>150.000000</td>\n",
       "      <td>150.000000</td>\n",
       "      <td>150.000000</td>\n",
       "    </tr>\n",
       "    <tr>\n",
       "      <th>mean</th>\n",
       "      <td>5.843333</td>\n",
       "      <td>3.054000</td>\n",
       "      <td>3.758667</td>\n",
       "      <td>1.198667</td>\n",
       "      <td>1.000000</td>\n",
       "    </tr>\n",
       "    <tr>\n",
       "      <th>std</th>\n",
       "      <td>0.828066</td>\n",
       "      <td>0.433594</td>\n",
       "      <td>1.764420</td>\n",
       "      <td>0.763161</td>\n",
       "      <td>0.819232</td>\n",
       "    </tr>\n",
       "    <tr>\n",
       "      <th>min</th>\n",
       "      <td>4.300000</td>\n",
       "      <td>2.000000</td>\n",
       "      <td>1.000000</td>\n",
       "      <td>0.100000</td>\n",
       "      <td>0.000000</td>\n",
       "    </tr>\n",
       "    <tr>\n",
       "      <th>25%</th>\n",
       "      <td>5.100000</td>\n",
       "      <td>2.800000</td>\n",
       "      <td>1.600000</td>\n",
       "      <td>0.300000</td>\n",
       "      <td>0.000000</td>\n",
       "    </tr>\n",
       "    <tr>\n",
       "      <th>50%</th>\n",
       "      <td>5.800000</td>\n",
       "      <td>3.000000</td>\n",
       "      <td>4.350000</td>\n",
       "      <td>1.300000</td>\n",
       "      <td>1.000000</td>\n",
       "    </tr>\n",
       "    <tr>\n",
       "      <th>75%</th>\n",
       "      <td>6.400000</td>\n",
       "      <td>3.300000</td>\n",
       "      <td>5.100000</td>\n",
       "      <td>1.800000</td>\n",
       "      <td>2.000000</td>\n",
       "    </tr>\n",
       "    <tr>\n",
       "      <th>max</th>\n",
       "      <td>7.900000</td>\n",
       "      <td>4.400000</td>\n",
       "      <td>6.900000</td>\n",
       "      <td>2.500000</td>\n",
       "      <td>2.000000</td>\n",
       "    </tr>\n",
       "  </tbody>\n",
       "</table>\n",
       "</div>"
      ],
      "text/plain": [
       "       sepal length (cm)  sepal width (cm)  petal length (cm)  \\\n",
       "count         150.000000        150.000000         150.000000   \n",
       "mean            5.843333          3.054000           3.758667   \n",
       "std             0.828066          0.433594           1.764420   \n",
       "min             4.300000          2.000000           1.000000   \n",
       "25%             5.100000          2.800000           1.600000   \n",
       "50%             5.800000          3.000000           4.350000   \n",
       "75%             6.400000          3.300000           5.100000   \n",
       "max             7.900000          4.400000           6.900000   \n",
       "\n",
       "       petal width (cm)      target  \n",
       "count        150.000000  150.000000  \n",
       "mean           1.198667    1.000000  \n",
       "std            0.763161    0.819232  \n",
       "min            0.100000    0.000000  \n",
       "25%            0.300000    0.000000  \n",
       "50%            1.300000    1.000000  \n",
       "75%            1.800000    2.000000  \n",
       "max            2.500000    2.000000  "
      ]
     },
     "execution_count": 18,
     "metadata": {},
     "output_type": "execute_result"
    }
   ],
   "source": [
    "iris_df.describe()"
   ]
  },
  {
   "cell_type": "markdown",
   "metadata": {},
   "source": [
    "You can also do this for specific describers and columns."
   ]
  },
  {
   "cell_type": "code",
   "execution_count": 20,
   "metadata": {},
   "outputs": [
    {
     "data": {
      "text/plain": [
       "0.4335943113621737"
      ]
     },
     "execution_count": 20,
     "metadata": {},
     "output_type": "execute_result"
    }
   ],
   "source": [
    "iris_df[\"sepal width (cm)\"].std()"
   ]
  },
  {
   "cell_type": "markdown",
   "metadata": {},
   "source": [
    "### Boolean Indexing\n",
    "Often you want to filter for a specific value. For example you only want to get all the rows where the sepal width is above 4. This is integrated in pandas by the so called boolean indexing. For this you have to access the dataframe as usual, but instead of typing the column you give it a boolean expression."
   ]
  },
  {
   "cell_type": "code",
   "execution_count": 26,
   "metadata": {},
   "outputs": [
    {
     "data": {
      "text/html": [
       "<div>\n",
       "<style scoped>\n",
       "    .dataframe tbody tr th:only-of-type {\n",
       "        vertical-align: middle;\n",
       "    }\n",
       "\n",
       "    .dataframe tbody tr th {\n",
       "        vertical-align: top;\n",
       "    }\n",
       "\n",
       "    .dataframe thead th {\n",
       "        text-align: right;\n",
       "    }\n",
       "</style>\n",
       "<table border=\"1\" class=\"dataframe\">\n",
       "  <thead>\n",
       "    <tr style=\"text-align: right;\">\n",
       "      <th></th>\n",
       "      <th>sepal length (cm)</th>\n",
       "      <th>sepal width (cm)</th>\n",
       "      <th>petal length (cm)</th>\n",
       "      <th>petal width (cm)</th>\n",
       "      <th>target</th>\n",
       "    </tr>\n",
       "  </thead>\n",
       "  <tbody>\n",
       "    <tr>\n",
       "      <th>15</th>\n",
       "      <td>5.7</td>\n",
       "      <td>4.4</td>\n",
       "      <td>1.5</td>\n",
       "      <td>0.4</td>\n",
       "      <td>0.0</td>\n",
       "    </tr>\n",
       "    <tr>\n",
       "      <th>32</th>\n",
       "      <td>5.2</td>\n",
       "      <td>4.1</td>\n",
       "      <td>1.5</td>\n",
       "      <td>0.1</td>\n",
       "      <td>0.0</td>\n",
       "    </tr>\n",
       "    <tr>\n",
       "      <th>33</th>\n",
       "      <td>5.5</td>\n",
       "      <td>4.2</td>\n",
       "      <td>1.4</td>\n",
       "      <td>0.2</td>\n",
       "      <td>0.0</td>\n",
       "    </tr>\n",
       "  </tbody>\n",
       "</table>\n",
       "</div>"
      ],
      "text/plain": [
       "    sepal length (cm)  sepal width (cm)  petal length (cm)  petal width (cm)  \\\n",
       "15                5.7               4.4                1.5               0.4   \n",
       "32                5.2               4.1                1.5               0.1   \n",
       "33                5.5               4.2                1.4               0.2   \n",
       "\n",
       "    target  \n",
       "15     0.0  \n",
       "32     0.0  \n",
       "33     0.0  "
      ]
     },
     "execution_count": 26,
     "metadata": {},
     "output_type": "execute_result"
    }
   ],
   "source": [
    "iris_df[iris_df[\"sepal width (cm)\"] > 4]"
   ]
  },
  {
   "cell_type": "markdown",
   "metadata": {},
   "source": [
    "You can combine boolean indexing with regular a regular access on certain columns. So in the following case you would get the petal width for all flowers were the sepal width is above 4."
   ]
  },
  {
   "cell_type": "code",
   "execution_count": 27,
   "metadata": {},
   "outputs": [
    {
     "data": {
      "text/plain": [
       "15    0.4\n",
       "32    0.1\n",
       "33    0.2\n",
       "Name: petal width (cm), dtype: float64"
      ]
     },
     "execution_count": 27,
     "metadata": {},
     "output_type": "execute_result"
    }
   ],
   "source": [
    "iris_df[\"petal width (cm)\"][iris_df[\"sepal width (cm)\"] > 4]"
   ]
  },
  {
   "cell_type": "markdown",
   "metadata": {},
   "source": [
    "### Practice Questions\n",
    "* When is it impossible to access a column with the statement df.columnname, but you have to type df[columnname] instead?\n",
    "* What is the index of a dataframe and what types can it have?\n",
    "* What is the keyword \"inplace\" used for?"
   ]
  },
  {
   "cell_type": "markdown",
   "metadata": {},
   "source": [
    "### Exercise 1\n",
    "Use the code provided above to read in the iris dataset and do the following:\n",
    "* Calculate the minimal value for the column 'petal length'\n",
    "* Select all rows where target is 0 and use the describe function on this\n",
    "* Create a slice of the last two rows of the dataframe\n",
    "\n",
    "<img src=\"https://memegenerator.net/img/instances/73988552/pythonpandas-is-easy-just-do-such-and-such.jpg\" alt=\"Drawing\" style=\"width: 250px;\"/ align=\"left\">"
   ]
  },
  {
   "cell_type": "markdown",
   "metadata": {},
   "source": [
    "## Creating Dataframes from Data\n",
    "Pandas allows you to create dataframes in very different ways. But we can savely assume that most of the time you will read in .csv files, as they are the most common format for raw data. First let us create a csv file we can play around with."
   ]
  },
  {
   "cell_type": "code",
   "execution_count": 32,
   "metadata": {
    "collapsed": true
   },
   "outputs": [],
   "source": [
    "# Again, you do not need to get this code. It only exists to make sure we all have the same .csv\n",
    "import numpy as np\n",
    "import pandas as pd\n",
    "import datetime\n",
    "import random\n",
    "\n",
    "def create_csv():\n",
    "    \"\"\"Creates a dataframe with random data and saves it as a csv\"\"\"\n",
    "    # Create a dataframe with only NaN\n",
    "    df = pd.DataFrame(np.nan, index=range(50), columns=range(4))\n",
    "    # Fill the columns\n",
    "    for i, column in enumerate(df.columns):\n",
    "        # Make the first column retain some NaN\n",
    "        if i == 0:\n",
    "            fill_till = random.randint(10, random.randint(10, 51))\n",
    "            df.loc[:fill_till-1,column] = np.random.randint(low=random.randrange(100),\n",
    "                                                            high=random.randrange(100, 1000),\n",
    "                                                            size=fill_till)\n",
    "        # Fill all others completely\n",
    "        else:\n",
    "            df.loc[:,column] = np.random.randint(low=random.randrange(100),\n",
    "                                                 high=random.randrange(100, 1000),\n",
    "                                                 size=50)\n",
    "    # Replace the NaN\n",
    "    df.fillna(value=-999, inplace=True)\n",
    "    # Give the columns new names\n",
    "    df.columns = [\"Probe1\", \"Probe2\", \"Probe3\", \"Probe3\"]    \n",
    "    # Create a datetime index\n",
    "    times = pd.DatetimeIndex(freq='2s', start=datetime.datetime.now(), periods=50)\n",
    "    df.index = times\n",
    "    df.index.name = \"datetime\"\n",
    "    # Write to a file\n",
    "    df.to_csv(\"probe_measurements.csv\", sep=\";\")            \n",
    "            \n",
    "create_csv()"
   ]
  },
  {
   "cell_type": "markdown",
   "metadata": {},
   "source": [
    "Execute this code and in your directory a file named \"probe_measurements.csv\" should pop up. Now we want to read it in again. We have to make sure we get the seperator right and find a way to handle the NaNs. "
   ]
  },
  {
   "cell_type": "code",
   "execution_count": 37,
   "metadata": {},
   "outputs": [
    {
     "data": {
      "text/html": [
       "<div>\n",
       "<style scoped>\n",
       "    .dataframe tbody tr th:only-of-type {\n",
       "        vertical-align: middle;\n",
       "    }\n",
       "\n",
       "    .dataframe tbody tr th {\n",
       "        vertical-align: top;\n",
       "    }\n",
       "\n",
       "    .dataframe thead th {\n",
       "        text-align: right;\n",
       "    }\n",
       "</style>\n",
       "<table border=\"1\" class=\"dataframe\">\n",
       "  <thead>\n",
       "    <tr style=\"text-align: right;\">\n",
       "      <th></th>\n",
       "      <th>Probe1</th>\n",
       "      <th>Probe2</th>\n",
       "      <th>Probe3</th>\n",
       "      <th>Probe3.1</th>\n",
       "    </tr>\n",
       "    <tr>\n",
       "      <th>datetime</th>\n",
       "      <th></th>\n",
       "      <th></th>\n",
       "      <th></th>\n",
       "      <th></th>\n",
       "    </tr>\n",
       "  </thead>\n",
       "  <tbody>\n",
       "    <tr>\n",
       "      <th>2018-07-05 13:58:08.716821</th>\n",
       "      <td>NaN</td>\n",
       "      <td>401</td>\n",
       "      <td>409</td>\n",
       "      <td>520</td>\n",
       "    </tr>\n",
       "    <tr>\n",
       "      <th>2018-07-05 13:58:10.716821</th>\n",
       "      <td>NaN</td>\n",
       "      <td>389</td>\n",
       "      <td>312</td>\n",
       "      <td>167</td>\n",
       "    </tr>\n",
       "    <tr>\n",
       "      <th>2018-07-05 13:58:12.716821</th>\n",
       "      <td>NaN</td>\n",
       "      <td>709</td>\n",
       "      <td>103</td>\n",
       "      <td>536</td>\n",
       "    </tr>\n",
       "    <tr>\n",
       "      <th>2018-07-05 13:58:14.716821</th>\n",
       "      <td>NaN</td>\n",
       "      <td>277</td>\n",
       "      <td>147</td>\n",
       "      <td>112</td>\n",
       "    </tr>\n",
       "    <tr>\n",
       "      <th>2018-07-05 13:58:16.716821</th>\n",
       "      <td>NaN</td>\n",
       "      <td>351</td>\n",
       "      <td>281</td>\n",
       "      <td>200</td>\n",
       "    </tr>\n",
       "    <tr>\n",
       "      <th>2018-07-05 13:58:18.716821</th>\n",
       "      <td>NaN</td>\n",
       "      <td>688</td>\n",
       "      <td>368</td>\n",
       "      <td>363</td>\n",
       "    </tr>\n",
       "    <tr>\n",
       "      <th>2018-07-05 13:58:20.716821</th>\n",
       "      <td>NaN</td>\n",
       "      <td>540</td>\n",
       "      <td>174</td>\n",
       "      <td>820</td>\n",
       "    </tr>\n",
       "    <tr>\n",
       "      <th>2018-07-05 13:58:22.716821</th>\n",
       "      <td>NaN</td>\n",
       "      <td>646</td>\n",
       "      <td>261</td>\n",
       "      <td>296</td>\n",
       "    </tr>\n",
       "    <tr>\n",
       "      <th>2018-07-05 13:58:24.716821</th>\n",
       "      <td>NaN</td>\n",
       "      <td>408</td>\n",
       "      <td>103</td>\n",
       "      <td>479</td>\n",
       "    </tr>\n",
       "    <tr>\n",
       "      <th>2018-07-05 13:58:26.716821</th>\n",
       "      <td>NaN</td>\n",
       "      <td>647</td>\n",
       "      <td>416</td>\n",
       "      <td>199</td>\n",
       "    </tr>\n",
       "    <tr>\n",
       "      <th>2018-07-05 13:58:28.716821</th>\n",
       "      <td>NaN</td>\n",
       "      <td>200</td>\n",
       "      <td>155</td>\n",
       "      <td>484</td>\n",
       "    </tr>\n",
       "    <tr>\n",
       "      <th>2018-07-05 13:58:30.716821</th>\n",
       "      <td>NaN</td>\n",
       "      <td>254</td>\n",
       "      <td>200</td>\n",
       "      <td>256</td>\n",
       "    </tr>\n",
       "    <tr>\n",
       "      <th>2018-07-05 13:58:32.716821</th>\n",
       "      <td>NaN</td>\n",
       "      <td>212</td>\n",
       "      <td>100</td>\n",
       "      <td>329</td>\n",
       "    </tr>\n",
       "    <tr>\n",
       "      <th>2018-07-05 13:58:34.716821</th>\n",
       "      <td>NaN</td>\n",
       "      <td>610</td>\n",
       "      <td>20</td>\n",
       "      <td>603</td>\n",
       "    </tr>\n",
       "    <tr>\n",
       "      <th>2018-07-05 13:58:36.716821</th>\n",
       "      <td>NaN</td>\n",
       "      <td>81</td>\n",
       "      <td>235</td>\n",
       "      <td>761</td>\n",
       "    </tr>\n",
       "  </tbody>\n",
       "</table>\n",
       "</div>"
      ],
      "text/plain": [
       "                            Probe1  Probe2  Probe3  Probe3.1\n",
       "datetime                                                    \n",
       "2018-07-05 13:58:08.716821     NaN     401     409       520\n",
       "2018-07-05 13:58:10.716821     NaN     389     312       167\n",
       "2018-07-05 13:58:12.716821     NaN     709     103       536\n",
       "2018-07-05 13:58:14.716821     NaN     277     147       112\n",
       "2018-07-05 13:58:16.716821     NaN     351     281       200\n",
       "2018-07-05 13:58:18.716821     NaN     688     368       363\n",
       "2018-07-05 13:58:20.716821     NaN     540     174       820\n",
       "2018-07-05 13:58:22.716821     NaN     646     261       296\n",
       "2018-07-05 13:58:24.716821     NaN     408     103       479\n",
       "2018-07-05 13:58:26.716821     NaN     647     416       199\n",
       "2018-07-05 13:58:28.716821     NaN     200     155       484\n",
       "2018-07-05 13:58:30.716821     NaN     254     200       256\n",
       "2018-07-05 13:58:32.716821     NaN     212     100       329\n",
       "2018-07-05 13:58:34.716821     NaN     610      20       603\n",
       "2018-07-05 13:58:36.716821     NaN      81     235       761"
      ]
     },
     "execution_count": 37,
     "metadata": {},
     "output_type": "execute_result"
    }
   ],
   "source": [
    "def read_in_csv(file):\n",
    "    \"\"\"Reads in the file we just created\"\"\"\n",
    "    df = pd.read_csv(file, sep=\";\", header=0, index_col=0, na_values=-999)\n",
    "    return df\n",
    "\n",
    "df = read_in_csv(\"probe_measurements.csv\")\n",
    "df.tail(15)"
   ]
  },
  {
   "cell_type": "markdown",
   "metadata": {},
   "source": [
    "The pandas method read_csv() has [quite a lot](https://pandas.pydata.org/pandas-docs/stable/generated/pandas.read_csv.html) of additional keywords to play around with. For our easy example we only needed four, but a bit more untidy data might force you to play around a lot more. For a little more information on how to create dataframes take a look [here](https://youtu.be/3k0HbcUGErE).\n",
    "\n",
    "### Practice Questions\n",
    "* What would happen if we would not define **na_values=-999**?\n",
    "* What does df.tail() do?\n",
    "* What kinds of Dataframe creation methods exist beside read_csv()"
   ]
  },
  {
   "cell_type": "markdown",
   "metadata": {},
   "source": [
    "### Exercise 2\n",
    "Download [this file](http://unstats.un.org/unsd/environment/excel_file_tables/2013/Energy%20Indicators.xls), which is provided by UN and contains energy indicators for 2013. Your task is to create a dataframe called \"energy\" that contains all entries in the right format. You should consider the following:\n",
    "* This is an Excel file, not a csv\n",
    "* The upper part is unecessary and you should not read it in (do not delete parts of the file)\n",
    "* The first two columns contain no information\n",
    "* Convert Energy Supply to gigajoules (there are 1,000,000 gigajoules in a petajoule)\n",
    "* Make sure all missing data is saved as NaN\n",
    "* There are several countries with numbers and/or parenthesis in their name. Be sure to remove these.\n",
    "    * 'Bolivia (Plurinational State of)' should be 'Bolivia'\n",
    "    * 'Switzerland17' should be 'Switzerland'\n",
    "    \n",
    "Finally, let pandas describe the dataset for you.\n",
    "    \n",
    "Hint: This exercise will be a bit challenging. Do not lose heart if this takes some time to sort out. \n",
    "\n",
    "Inspired by \"Introduction to Data Science\" MOOC by the University of Michigan"
   ]
  },
  {
   "cell_type": "markdown",
   "metadata": {},
   "source": [
    "## Save Dataframes as Files\n"
   ]
  }
 ],
 "metadata": {
  "kernelspec": {
   "display_name": "Python 3",
   "language": "python",
   "name": "python3"
  },
  "language_info": {
   "codemirror_mode": {
    "name": "ipython",
    "version": 3
   },
   "file_extension": ".py",
   "mimetype": "text/x-python",
   "name": "python",
   "nbconvert_exporter": "python",
   "pygments_lexer": "ipython3",
   "version": "3.6.1"
  }
 },
 "nbformat": 4,
 "nbformat_minor": 2
}
