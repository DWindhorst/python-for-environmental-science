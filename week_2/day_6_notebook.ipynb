{
 "cells": [
  {
   "cell_type": "markdown",
   "metadata": {},
   "source": [
    "# Python for Environmental Science Day 6\n",
    "## Topics\n",
    "* Pandas\n"
   ]
  },
  {
   "cell_type": "markdown",
   "metadata": {},
   "source": [
    "## Disclaimer\n",
    "Foremost, I have to inform you that [pandas](https://www.quora.com/Why-is-the-pandas-Python-library-named-pandas) has nothing to do with [pandas](https://en.wikipedia.org/wiki/Giant_panda). Sorry about that. Secondly, I have to tell you that pandas can be a bit confusing at times and I still haven't figured out everything myself. However, I will give my best to teach you the things I know and those I should know about pandas. This notebook might take us a bit longer then the days before. We'll see. "
   ]
  },
  {
   "cell_type": "markdown",
   "metadata": {},
   "source": [
    "## What is pandas?\n",
    "You know [spreadsheets](https://en.wikipedia.org/wiki/Spreadsheet), right? \n",
    "\n",
    "<img src=\"https://i.pinimg.com/originals/04/5b/91/045b9193b35a53ea001963032614e599.jpg\" alt=\"Drawing\" style=\"width: 250px;\"/ align=\"left\">"
   ]
  },
  {
   "cell_type": "markdown",
   "metadata": {},
   "source": [
    "\n",
    "Basically pandas does the same, but a bit more abstract and way better. Today you will learn how to read data into pandas and work with it in meaningful ways. When you import pandas it is convention to do it like this:"
   ]
  },
  {
   "cell_type": "code",
   "execution_count": 4,
   "metadata": {
    "collapsed": true
   },
   "outputs": [],
   "source": [
    "import pandas as pd"
   ]
  },
  {
   "cell_type": "markdown",
   "metadata": {},
   "source": [
    "First, take a look at [this video](https://youtu.be/CmorAWRsCAw) to get a introduction to pandas and why it is useful.\n",
    "\n",
    "### Practice Questions\n",
    "* What is the advantage of pandas of regular spreadsheets like excel?\n",
    "* What is data wrangling?\n",
    "\n",
    "In the following sections we will use the well known [iris dataset](https://en.wikipedia.org/wiki/Iris_flower_data_set) to explore pandas a bit more."
   ]
  },
  {
   "cell_type": "code",
   "execution_count": 28,
   "metadata": {},
   "outputs": [
    {
     "data": {
      "text/html": [
       "<div>\n",
       "<style scoped>\n",
       "    .dataframe tbody tr th:only-of-type {\n",
       "        vertical-align: middle;\n",
       "    }\n",
       "\n",
       "    .dataframe tbody tr th {\n",
       "        vertical-align: top;\n",
       "    }\n",
       "\n",
       "    .dataframe thead th {\n",
       "        text-align: right;\n",
       "    }\n",
       "</style>\n",
       "<table border=\"1\" class=\"dataframe\">\n",
       "  <thead>\n",
       "    <tr style=\"text-align: right;\">\n",
       "      <th></th>\n",
       "      <th>sepal length (cm)</th>\n",
       "      <th>sepal width (cm)</th>\n",
       "      <th>petal length (cm)</th>\n",
       "      <th>petal width (cm)</th>\n",
       "      <th>target</th>\n",
       "    </tr>\n",
       "  </thead>\n",
       "  <tbody>\n",
       "    <tr>\n",
       "      <th>0</th>\n",
       "      <td>5.1</td>\n",
       "      <td>3.5</td>\n",
       "      <td>1.4</td>\n",
       "      <td>0.2</td>\n",
       "      <td>0.0</td>\n",
       "    </tr>\n",
       "    <tr>\n",
       "      <th>1</th>\n",
       "      <td>4.9</td>\n",
       "      <td>3.0</td>\n",
       "      <td>1.4</td>\n",
       "      <td>0.2</td>\n",
       "      <td>0.0</td>\n",
       "    </tr>\n",
       "    <tr>\n",
       "      <th>2</th>\n",
       "      <td>4.7</td>\n",
       "      <td>3.2</td>\n",
       "      <td>1.3</td>\n",
       "      <td>0.2</td>\n",
       "      <td>0.0</td>\n",
       "    </tr>\n",
       "    <tr>\n",
       "      <th>3</th>\n",
       "      <td>4.6</td>\n",
       "      <td>3.1</td>\n",
       "      <td>1.5</td>\n",
       "      <td>0.2</td>\n",
       "      <td>0.0</td>\n",
       "    </tr>\n",
       "    <tr>\n",
       "      <th>4</th>\n",
       "      <td>5.0</td>\n",
       "      <td>3.6</td>\n",
       "      <td>1.4</td>\n",
       "      <td>0.2</td>\n",
       "      <td>0.0</td>\n",
       "    </tr>\n",
       "  </tbody>\n",
       "</table>\n",
       "</div>"
      ],
      "text/plain": [
       "   sepal length (cm)  sepal width (cm)  petal length (cm)  petal width (cm)  \\\n",
       "0                5.1               3.5                1.4               0.2   \n",
       "1                4.9               3.0                1.4               0.2   \n",
       "2                4.7               3.2                1.3               0.2   \n",
       "3                4.6               3.1                1.5               0.2   \n",
       "4                5.0               3.6                1.4               0.2   \n",
       "\n",
       "   target  \n",
       "0     0.0  \n",
       "1     0.0  \n",
       "2     0.0  \n",
       "3     0.0  \n",
       "4     0.0  "
      ]
     },
     "execution_count": 28,
     "metadata": {},
     "output_type": "execute_result"
    }
   ],
   "source": [
    "# Do not worry if those lines confuse you. \n",
    "# They are only needed to get some data to work with and you do not need to understand them.\n",
    "# If you are curious take a look here:\n",
    "# https://stackoverflow.com/questions/38105539/how-to-convert-a-scikit-learn-dataset-to-a-pandas-dataset\n",
    "import numpy as np\n",
    "from sklearn import datasets\n",
    "\n",
    "def load_iris():\n",
    "    \"\"\"Loads the iris dataset and returns it as a dataframe\"\"\"\n",
    "    iris = datasets.load_iris()\n",
    "    iris_df = pd.DataFrame(data= np.c_[iris['data'], iris['target']],\n",
    "                         columns= iris['feature_names'] + ['target'])\n",
    "    return iris_df\n",
    "\n",
    "iris_df = load_iris()\n",
    "iris_df.head()"
   ]
  },
  {
   "cell_type": "markdown",
   "metadata": {},
   "source": [
    "As you can see it looks pretty similar to excel at first glance.\n",
    "\n",
    "After watching the video try to calculate the median of the column \"sepal width (cm)\"."
   ]
  },
  {
   "cell_type": "code",
   "execution_count": null,
   "metadata": {
    "collapsed": true
   },
   "outputs": [],
   "source": []
  },
  {
   "cell_type": "markdown",
   "metadata": {},
   "source": [
    "## Rows and Columns\n",
    "As I always confuse them, here is a little reminder on rows and columns:\n",
    "\n",
    "<img src=\"https://qph.fs.quoracdn.net/main-qimg-2c10ea6a9bdf9c6ae2c9031fb15c6723\" alt=\"Drawing\" style=\"width: 250px;\"/ align=\"left\">\n"
   ]
  },
  {
   "cell_type": "markdown",
   "metadata": {},
   "source": [
    "## Dataframe Basics\n",
    "Take a look at [this video](https://youtu.be/F6kmIpWWEdU) to get a basic overview of the dataframe data strucure. \n"
   ]
  },
  {
   "cell_type": "markdown",
   "metadata": {},
   "source": [
    "### Practice Questions\n",
    "* What is the \"shape\" of a dataframe?\n",
    "* How can you get the column names of a dataframe?\n",
    "* What is the difference between a series and a dataframe?"
   ]
  },
  {
   "cell_type": "markdown",
   "metadata": {},
   "source": [
    "### Simple Selection in Dataframes\n",
    "When you have collected and cleaned your data you want to do something with it. The first thing is usually looking at it. So lets take a look at a few ways to access your dataframe.\n",
    "* Access a certain subset of rows"
   ]
  },
  {
   "cell_type": "code",
   "execution_count": 10,
   "metadata": {},
   "outputs": [
    {
     "data": {
      "text/html": [
       "<div>\n",
       "<style scoped>\n",
       "    .dataframe tbody tr th:only-of-type {\n",
       "        vertical-align: middle;\n",
       "    }\n",
       "\n",
       "    .dataframe tbody tr th {\n",
       "        vertical-align: top;\n",
       "    }\n",
       "\n",
       "    .dataframe thead th {\n",
       "        text-align: right;\n",
       "    }\n",
       "</style>\n",
       "<table border=\"1\" class=\"dataframe\">\n",
       "  <thead>\n",
       "    <tr style=\"text-align: right;\">\n",
       "      <th></th>\n",
       "      <th>sepal length (cm)</th>\n",
       "      <th>sepal width (cm)</th>\n",
       "      <th>petal length (cm)</th>\n",
       "      <th>petal width (cm)</th>\n",
       "      <th>target</th>\n",
       "    </tr>\n",
       "  </thead>\n",
       "  <tbody>\n",
       "    <tr>\n",
       "      <th>1</th>\n",
       "      <td>4.9</td>\n",
       "      <td>3.0</td>\n",
       "      <td>1.4</td>\n",
       "      <td>0.2</td>\n",
       "      <td>0.0</td>\n",
       "    </tr>\n",
       "    <tr>\n",
       "      <th>2</th>\n",
       "      <td>4.7</td>\n",
       "      <td>3.2</td>\n",
       "      <td>1.3</td>\n",
       "      <td>0.2</td>\n",
       "      <td>0.0</td>\n",
       "    </tr>\n",
       "  </tbody>\n",
       "</table>\n",
       "</div>"
      ],
      "text/plain": [
       "   sepal length (cm)  sepal width (cm)  petal length (cm)  petal width (cm)  \\\n",
       "1                4.9               3.0                1.4               0.2   \n",
       "2                4.7               3.2                1.3               0.2   \n",
       "\n",
       "   target  \n",
       "1     0.0  \n",
       "2     0.0  "
      ]
     },
     "execution_count": 10,
     "metadata": {},
     "output_type": "execute_result"
    }
   ],
   "source": [
    "# Simply use slicing, as you already learned with lists\n",
    "iris_df[1:3]"
   ]
  },
  {
   "cell_type": "markdown",
   "metadata": {},
   "source": [
    "* Access a column"
   ]
  },
  {
   "cell_type": "code",
   "execution_count": 15,
   "metadata": {},
   "outputs": [
    {
     "data": {
      "text/plain": [
       "0    3.5\n",
       "1    3.0\n",
       "2    3.2\n",
       "3    3.1\n",
       "4    3.6\n",
       "Name: sepal width (cm), dtype: float64"
      ]
     },
     "execution_count": 15,
     "metadata": {},
     "output_type": "execute_result"
    }
   ],
   "source": [
    "# Simply use the name in square brackets\n",
    "# The .head() function is not neccesary for this, but it is nicer to look at. Try the line without it. \n",
    "iris_df[\"sepal width (cm)\"].head()"
   ]
  },
  {
   "cell_type": "markdown",
   "metadata": {},
   "source": [
    "The thing we got back from pandas when we asked for a certain column was a series. "
   ]
  },
  {
   "cell_type": "code",
   "execution_count": 16,
   "metadata": {},
   "outputs": [
    {
     "data": {
      "text/plain": [
       "pandas.core.series.Series"
      ]
     },
     "execution_count": 16,
     "metadata": {},
     "output_type": "execute_result"
    }
   ],
   "source": [
    "type(iris_df[\"sepal width (cm)\"])"
   ]
  },
  {
   "cell_type": "markdown",
   "metadata": {},
   "source": [
    "This ought not confuse you. [Simply put](https://stackoverflow.com/questions/26047209/what-is-the-difference-between-a-pandas-series-and-a-single-column-dataframe) \"a series is a datastructure for a single column of a dataframe\" and a dataframe \"can be thought of as a dict-like container for series objects\".\n",
    "\n",
    "* Access several columns at once"
   ]
  },
  {
   "cell_type": "code",
   "execution_count": 17,
   "metadata": {},
   "outputs": [
    {
     "data": {
      "text/html": [
       "<div>\n",
       "<style scoped>\n",
       "    .dataframe tbody tr th:only-of-type {\n",
       "        vertical-align: middle;\n",
       "    }\n",
       "\n",
       "    .dataframe tbody tr th {\n",
       "        vertical-align: top;\n",
       "    }\n",
       "\n",
       "    .dataframe thead th {\n",
       "        text-align: right;\n",
       "    }\n",
       "</style>\n",
       "<table border=\"1\" class=\"dataframe\">\n",
       "  <thead>\n",
       "    <tr style=\"text-align: right;\">\n",
       "      <th></th>\n",
       "      <th>sepal width (cm)</th>\n",
       "      <th>sepal length (cm)</th>\n",
       "    </tr>\n",
       "  </thead>\n",
       "  <tbody>\n",
       "    <tr>\n",
       "      <th>0</th>\n",
       "      <td>3.5</td>\n",
       "      <td>5.1</td>\n",
       "    </tr>\n",
       "    <tr>\n",
       "      <th>1</th>\n",
       "      <td>3.0</td>\n",
       "      <td>4.9</td>\n",
       "    </tr>\n",
       "    <tr>\n",
       "      <th>2</th>\n",
       "      <td>3.2</td>\n",
       "      <td>4.7</td>\n",
       "    </tr>\n",
       "    <tr>\n",
       "      <th>3</th>\n",
       "      <td>3.1</td>\n",
       "      <td>4.6</td>\n",
       "    </tr>\n",
       "    <tr>\n",
       "      <th>4</th>\n",
       "      <td>3.6</td>\n",
       "      <td>5.0</td>\n",
       "    </tr>\n",
       "  </tbody>\n",
       "</table>\n",
       "</div>"
      ],
      "text/plain": [
       "   sepal width (cm)  sepal length (cm)\n",
       "0               3.5                5.1\n",
       "1               3.0                4.9\n",
       "2               3.2                4.7\n",
       "3               3.1                4.6\n",
       "4               3.6                5.0"
      ]
     },
     "execution_count": 17,
     "metadata": {},
     "output_type": "execute_result"
    }
   ],
   "source": [
    "# Simply create a list of the columns you want to access\n",
    "cols = [\"sepal width (cm)\", \"sepal length (cm)\"]\n",
    "iris_df[cols].head()"
   ]
  },
  {
   "cell_type": "markdown",
   "metadata": {},
   "source": [
    "### Simple Calculations\n",
    "As the dataframe contains data you want to work with, the most powerful property of pandas is the easy usage of functions to calculate new informations. The most useful to get a quick overview for a dataframe is .describe(), which will give you the most common describers of data like mean or max values."
   ]
  },
  {
   "cell_type": "code",
   "execution_count": 18,
   "metadata": {},
   "outputs": [
    {
     "data": {
      "text/html": [
       "<div>\n",
       "<style scoped>\n",
       "    .dataframe tbody tr th:only-of-type {\n",
       "        vertical-align: middle;\n",
       "    }\n",
       "\n",
       "    .dataframe tbody tr th {\n",
       "        vertical-align: top;\n",
       "    }\n",
       "\n",
       "    .dataframe thead th {\n",
       "        text-align: right;\n",
       "    }\n",
       "</style>\n",
       "<table border=\"1\" class=\"dataframe\">\n",
       "  <thead>\n",
       "    <tr style=\"text-align: right;\">\n",
       "      <th></th>\n",
       "      <th>sepal length (cm)</th>\n",
       "      <th>sepal width (cm)</th>\n",
       "      <th>petal length (cm)</th>\n",
       "      <th>petal width (cm)</th>\n",
       "      <th>target</th>\n",
       "    </tr>\n",
       "  </thead>\n",
       "  <tbody>\n",
       "    <tr>\n",
       "      <th>count</th>\n",
       "      <td>150.000000</td>\n",
       "      <td>150.000000</td>\n",
       "      <td>150.000000</td>\n",
       "      <td>150.000000</td>\n",
       "      <td>150.000000</td>\n",
       "    </tr>\n",
       "    <tr>\n",
       "      <th>mean</th>\n",
       "      <td>5.843333</td>\n",
       "      <td>3.054000</td>\n",
       "      <td>3.758667</td>\n",
       "      <td>1.198667</td>\n",
       "      <td>1.000000</td>\n",
       "    </tr>\n",
       "    <tr>\n",
       "      <th>std</th>\n",
       "      <td>0.828066</td>\n",
       "      <td>0.433594</td>\n",
       "      <td>1.764420</td>\n",
       "      <td>0.763161</td>\n",
       "      <td>0.819232</td>\n",
       "    </tr>\n",
       "    <tr>\n",
       "      <th>min</th>\n",
       "      <td>4.300000</td>\n",
       "      <td>2.000000</td>\n",
       "      <td>1.000000</td>\n",
       "      <td>0.100000</td>\n",
       "      <td>0.000000</td>\n",
       "    </tr>\n",
       "    <tr>\n",
       "      <th>25%</th>\n",
       "      <td>5.100000</td>\n",
       "      <td>2.800000</td>\n",
       "      <td>1.600000</td>\n",
       "      <td>0.300000</td>\n",
       "      <td>0.000000</td>\n",
       "    </tr>\n",
       "    <tr>\n",
       "      <th>50%</th>\n",
       "      <td>5.800000</td>\n",
       "      <td>3.000000</td>\n",
       "      <td>4.350000</td>\n",
       "      <td>1.300000</td>\n",
       "      <td>1.000000</td>\n",
       "    </tr>\n",
       "    <tr>\n",
       "      <th>75%</th>\n",
       "      <td>6.400000</td>\n",
       "      <td>3.300000</td>\n",
       "      <td>5.100000</td>\n",
       "      <td>1.800000</td>\n",
       "      <td>2.000000</td>\n",
       "    </tr>\n",
       "    <tr>\n",
       "      <th>max</th>\n",
       "      <td>7.900000</td>\n",
       "      <td>4.400000</td>\n",
       "      <td>6.900000</td>\n",
       "      <td>2.500000</td>\n",
       "      <td>2.000000</td>\n",
       "    </tr>\n",
       "  </tbody>\n",
       "</table>\n",
       "</div>"
      ],
      "text/plain": [
       "       sepal length (cm)  sepal width (cm)  petal length (cm)  \\\n",
       "count         150.000000        150.000000         150.000000   \n",
       "mean            5.843333          3.054000           3.758667   \n",
       "std             0.828066          0.433594           1.764420   \n",
       "min             4.300000          2.000000           1.000000   \n",
       "25%             5.100000          2.800000           1.600000   \n",
       "50%             5.800000          3.000000           4.350000   \n",
       "75%             6.400000          3.300000           5.100000   \n",
       "max             7.900000          4.400000           6.900000   \n",
       "\n",
       "       petal width (cm)      target  \n",
       "count        150.000000  150.000000  \n",
       "mean           1.198667    1.000000  \n",
       "std            0.763161    0.819232  \n",
       "min            0.100000    0.000000  \n",
       "25%            0.300000    0.000000  \n",
       "50%            1.300000    1.000000  \n",
       "75%            1.800000    2.000000  \n",
       "max            2.500000    2.000000  "
      ]
     },
     "execution_count": 18,
     "metadata": {},
     "output_type": "execute_result"
    }
   ],
   "source": [
    "iris_df.describe()"
   ]
  },
  {
   "cell_type": "markdown",
   "metadata": {},
   "source": [
    "You can also do this for specific describers and columns."
   ]
  },
  {
   "cell_type": "code",
   "execution_count": 20,
   "metadata": {},
   "outputs": [
    {
     "data": {
      "text/plain": [
       "0.4335943113621737"
      ]
     },
     "execution_count": 20,
     "metadata": {},
     "output_type": "execute_result"
    }
   ],
   "source": [
    "iris_df[\"sepal width (cm)\"].std()"
   ]
  },
  {
   "cell_type": "markdown",
   "metadata": {},
   "source": [
    "### Boolean Indexing\n",
    "Often you want to filter for a specific value. For example you only want to get all the rows where the sepal width is above 4. This is integrated in pandas by the so called boolean indexing. For this you have to access the dataframe as usual, but instead of typing the column you give it a boolean expression."
   ]
  },
  {
   "cell_type": "code",
   "execution_count": 26,
   "metadata": {},
   "outputs": [
    {
     "data": {
      "text/html": [
       "<div>\n",
       "<style scoped>\n",
       "    .dataframe tbody tr th:only-of-type {\n",
       "        vertical-align: middle;\n",
       "    }\n",
       "\n",
       "    .dataframe tbody tr th {\n",
       "        vertical-align: top;\n",
       "    }\n",
       "\n",
       "    .dataframe thead th {\n",
       "        text-align: right;\n",
       "    }\n",
       "</style>\n",
       "<table border=\"1\" class=\"dataframe\">\n",
       "  <thead>\n",
       "    <tr style=\"text-align: right;\">\n",
       "      <th></th>\n",
       "      <th>sepal length (cm)</th>\n",
       "      <th>sepal width (cm)</th>\n",
       "      <th>petal length (cm)</th>\n",
       "      <th>petal width (cm)</th>\n",
       "      <th>target</th>\n",
       "    </tr>\n",
       "  </thead>\n",
       "  <tbody>\n",
       "    <tr>\n",
       "      <th>15</th>\n",
       "      <td>5.7</td>\n",
       "      <td>4.4</td>\n",
       "      <td>1.5</td>\n",
       "      <td>0.4</td>\n",
       "      <td>0.0</td>\n",
       "    </tr>\n",
       "    <tr>\n",
       "      <th>32</th>\n",
       "      <td>5.2</td>\n",
       "      <td>4.1</td>\n",
       "      <td>1.5</td>\n",
       "      <td>0.1</td>\n",
       "      <td>0.0</td>\n",
       "    </tr>\n",
       "    <tr>\n",
       "      <th>33</th>\n",
       "      <td>5.5</td>\n",
       "      <td>4.2</td>\n",
       "      <td>1.4</td>\n",
       "      <td>0.2</td>\n",
       "      <td>0.0</td>\n",
       "    </tr>\n",
       "  </tbody>\n",
       "</table>\n",
       "</div>"
      ],
      "text/plain": [
       "    sepal length (cm)  sepal width (cm)  petal length (cm)  petal width (cm)  \\\n",
       "15                5.7               4.4                1.5               0.4   \n",
       "32                5.2               4.1                1.5               0.1   \n",
       "33                5.5               4.2                1.4               0.2   \n",
       "\n",
       "    target  \n",
       "15     0.0  \n",
       "32     0.0  \n",
       "33     0.0  "
      ]
     },
     "execution_count": 26,
     "metadata": {},
     "output_type": "execute_result"
    }
   ],
   "source": [
    "iris_df[iris_df[\"sepal width (cm)\"] > 4]"
   ]
  },
  {
   "cell_type": "markdown",
   "metadata": {},
   "source": [
    "You can combine boolean indexing with regular a regular access on certain columns. So in the following case you would get the petal width for all flowers were the sepal width is above 4."
   ]
  },
  {
   "cell_type": "code",
   "execution_count": 27,
   "metadata": {},
   "outputs": [
    {
     "data": {
      "text/plain": [
       "15    0.4\n",
       "32    0.1\n",
       "33    0.2\n",
       "Name: petal width (cm), dtype: float64"
      ]
     },
     "execution_count": 27,
     "metadata": {},
     "output_type": "execute_result"
    }
   ],
   "source": [
    "iris_df[\"petal width (cm)\"][iris_df[\"sepal width (cm)\"] > 4]"
   ]
  },
  {
   "cell_type": "markdown",
   "metadata": {},
   "source": [
    "### Practice Questions\n",
    "* When is it impossible to access a column with the statement df.columnname, but you have to type df[columnname] instead?\n",
    "* What is the index of a dataframe and what types can it have?\n",
    "* What is the keyword \"inplace\" used for?"
   ]
  },
  {
   "cell_type": "markdown",
   "metadata": {},
   "source": [
    "### Exercise 1\n",
    "Use the code provided above to read in the iris dataset and do the following:\n",
    "* Calculate the minimal value for the column 'petal length'\n",
    "* Select all rows where target is 0 and use the describe function on this\n",
    "* Create a slice of the last two rows of the dataframe\n",
    "\n",
    "<img src=\"https://memegenerator.net/img/instances/73988552/pythonpandas-is-easy-just-do-such-and-such.jpg\" alt=\"Drawing\" style=\"width: 250px;\"/ align=\"left\">"
   ]
  },
  {
   "cell_type": "markdown",
   "metadata": {},
   "source": [
    "## Creating Dataframes from Data\n",
    "Pandas allows you to create dataframes in very different ways. But we can savely assume that most of the time you will read in .csv files, as they are the most common format for raw data. First let us create a csv file we can play around with."
   ]
  },
  {
   "cell_type": "code",
   "execution_count": 3,
   "metadata": {
    "collapsed": true
   },
   "outputs": [],
   "source": [
    "# Again, you do not need to get this code. But it will not hurt if you try.\n",
    "import numpy as np\n",
    "import pandas as pd\n",
    "import datetime\n",
    "import random\n",
    "\n",
    "def create_csv():\n",
    "    \"\"\"Creates a dataframe with random data and saves it as a csv\"\"\"\n",
    "    # Create a dataframe with only NaN\n",
    "    df = pd.DataFrame(np.nan, index=range(50), columns=range(4))\n",
    "    # Fill the columns\n",
    "    for i, column in enumerate(df.columns):\n",
    "        # Make the first column retain some NaN\n",
    "        if i == 0:\n",
    "            fill_till = random.randint(10, random.randint(10, 51))\n",
    "            df.loc[:fill_till-1,column] = np.random.randint(low=random.randrange(100),\n",
    "                                                            high=random.randrange(100, 1000),\n",
    "                                                            size=fill_till)\n",
    "        # Fill all others completely\n",
    "        else:\n",
    "            df.loc[:,column] = np.random.randint(low=random.randrange(100),\n",
    "                                                 high=random.randrange(100, 1000),\n",
    "                                                 size=50)\n",
    "    # Replace the NaN\n",
    "    df.fillna(value=-999, inplace=True)\n",
    "    # Give the columns new names\n",
    "    df.columns = [\"Probe1\", \"Probe2\", \"Probe3\", \"Probe4\"]    \n",
    "    # Create a datetime index\n",
    "    times = pd.DatetimeIndex(freq='2s', start=datetime.datetime.now(), periods=50)\n",
    "    df.index = times\n",
    "    df.index.name = \"Datetime\"\n",
    "    # Write to a file\n",
    "    df.to_csv(\"probe_measurements.csv\", sep=\";\")            \n",
    "            \n",
    "create_csv()"
   ]
  },
  {
   "cell_type": "markdown",
   "metadata": {},
   "source": [
    "Execute this code and in your directory a file named \"probe_measurements.csv\" should pop up. Now we want to read it in again. We have to make sure we get the seperator right and find a way to handle the NaNs. "
   ]
  },
  {
   "cell_type": "code",
   "execution_count": 4,
   "metadata": {},
   "outputs": [
    {
     "data": {
      "text/html": [
       "<div>\n",
       "<style scoped>\n",
       "    .dataframe tbody tr th:only-of-type {\n",
       "        vertical-align: middle;\n",
       "    }\n",
       "\n",
       "    .dataframe tbody tr th {\n",
       "        vertical-align: top;\n",
       "    }\n",
       "\n",
       "    .dataframe thead th {\n",
       "        text-align: right;\n",
       "    }\n",
       "</style>\n",
       "<table border=\"1\" class=\"dataframe\">\n",
       "  <thead>\n",
       "    <tr style=\"text-align: right;\">\n",
       "      <th></th>\n",
       "      <th>Probe1</th>\n",
       "      <th>Probe2</th>\n",
       "      <th>Probe3</th>\n",
       "      <th>Probe4</th>\n",
       "    </tr>\n",
       "    <tr>\n",
       "      <th>Datetime</th>\n",
       "      <th></th>\n",
       "      <th></th>\n",
       "      <th></th>\n",
       "      <th></th>\n",
       "    </tr>\n",
       "  </thead>\n",
       "  <tbody>\n",
       "    <tr>\n",
       "      <th>2018-07-06 13:30:48.036072</th>\n",
       "      <td>NaN</td>\n",
       "      <td>178</td>\n",
       "      <td>52</td>\n",
       "      <td>637</td>\n",
       "    </tr>\n",
       "    <tr>\n",
       "      <th>2018-07-06 13:30:50.036072</th>\n",
       "      <td>NaN</td>\n",
       "      <td>737</td>\n",
       "      <td>250</td>\n",
       "      <td>238</td>\n",
       "    </tr>\n",
       "    <tr>\n",
       "      <th>2018-07-06 13:30:52.036072</th>\n",
       "      <td>NaN</td>\n",
       "      <td>808</td>\n",
       "      <td>108</td>\n",
       "      <td>306</td>\n",
       "    </tr>\n",
       "    <tr>\n",
       "      <th>2018-07-06 13:30:54.036072</th>\n",
       "      <td>NaN</td>\n",
       "      <td>398</td>\n",
       "      <td>275</td>\n",
       "      <td>382</td>\n",
       "    </tr>\n",
       "    <tr>\n",
       "      <th>2018-07-06 13:30:56.036072</th>\n",
       "      <td>NaN</td>\n",
       "      <td>768</td>\n",
       "      <td>268</td>\n",
       "      <td>137</td>\n",
       "    </tr>\n",
       "    <tr>\n",
       "      <th>2018-07-06 13:30:58.036072</th>\n",
       "      <td>NaN</td>\n",
       "      <td>102</td>\n",
       "      <td>279</td>\n",
       "      <td>443</td>\n",
       "    </tr>\n",
       "    <tr>\n",
       "      <th>2018-07-06 13:31:00.036072</th>\n",
       "      <td>NaN</td>\n",
       "      <td>272</td>\n",
       "      <td>220</td>\n",
       "      <td>547</td>\n",
       "    </tr>\n",
       "    <tr>\n",
       "      <th>2018-07-06 13:31:02.036072</th>\n",
       "      <td>NaN</td>\n",
       "      <td>761</td>\n",
       "      <td>187</td>\n",
       "      <td>524</td>\n",
       "    </tr>\n",
       "    <tr>\n",
       "      <th>2018-07-06 13:31:04.036072</th>\n",
       "      <td>NaN</td>\n",
       "      <td>261</td>\n",
       "      <td>83</td>\n",
       "      <td>380</td>\n",
       "    </tr>\n",
       "    <tr>\n",
       "      <th>2018-07-06 13:31:06.036072</th>\n",
       "      <td>NaN</td>\n",
       "      <td>528</td>\n",
       "      <td>195</td>\n",
       "      <td>213</td>\n",
       "    </tr>\n",
       "    <tr>\n",
       "      <th>2018-07-06 13:31:08.036072</th>\n",
       "      <td>NaN</td>\n",
       "      <td>613</td>\n",
       "      <td>55</td>\n",
       "      <td>478</td>\n",
       "    </tr>\n",
       "    <tr>\n",
       "      <th>2018-07-06 13:31:10.036072</th>\n",
       "      <td>NaN</td>\n",
       "      <td>729</td>\n",
       "      <td>202</td>\n",
       "      <td>235</td>\n",
       "    </tr>\n",
       "    <tr>\n",
       "      <th>2018-07-06 13:31:12.036072</th>\n",
       "      <td>NaN</td>\n",
       "      <td>150</td>\n",
       "      <td>285</td>\n",
       "      <td>535</td>\n",
       "    </tr>\n",
       "    <tr>\n",
       "      <th>2018-07-06 13:31:14.036072</th>\n",
       "      <td>NaN</td>\n",
       "      <td>423</td>\n",
       "      <td>152</td>\n",
       "      <td>198</td>\n",
       "    </tr>\n",
       "    <tr>\n",
       "      <th>2018-07-06 13:31:16.036072</th>\n",
       "      <td>NaN</td>\n",
       "      <td>552</td>\n",
       "      <td>218</td>\n",
       "      <td>329</td>\n",
       "    </tr>\n",
       "  </tbody>\n",
       "</table>\n",
       "</div>"
      ],
      "text/plain": [
       "                            Probe1  Probe2  Probe3  Probe4\n",
       "Datetime                                                  \n",
       "2018-07-06 13:30:48.036072     NaN     178      52     637\n",
       "2018-07-06 13:30:50.036072     NaN     737     250     238\n",
       "2018-07-06 13:30:52.036072     NaN     808     108     306\n",
       "2018-07-06 13:30:54.036072     NaN     398     275     382\n",
       "2018-07-06 13:30:56.036072     NaN     768     268     137\n",
       "2018-07-06 13:30:58.036072     NaN     102     279     443\n",
       "2018-07-06 13:31:00.036072     NaN     272     220     547\n",
       "2018-07-06 13:31:02.036072     NaN     761     187     524\n",
       "2018-07-06 13:31:04.036072     NaN     261      83     380\n",
       "2018-07-06 13:31:06.036072     NaN     528     195     213\n",
       "2018-07-06 13:31:08.036072     NaN     613      55     478\n",
       "2018-07-06 13:31:10.036072     NaN     729     202     235\n",
       "2018-07-06 13:31:12.036072     NaN     150     285     535\n",
       "2018-07-06 13:31:14.036072     NaN     423     152     198\n",
       "2018-07-06 13:31:16.036072     NaN     552     218     329"
      ]
     },
     "execution_count": 4,
     "metadata": {},
     "output_type": "execute_result"
    }
   ],
   "source": [
    "def read_in_csv(file):\n",
    "    \"\"\"Reads in the file we just created\"\"\"\n",
    "    df = pd.read_csv(file, sep=\";\", header=0, index_col=0, na_values=-999)\n",
    "    return df\n",
    "\n",
    "df = read_in_csv(\"probe_measurements.csv\")\n",
    "df.tail(15)"
   ]
  },
  {
   "cell_type": "markdown",
   "metadata": {},
   "source": [
    "The pandas method read_csv() has [quite a lot](https://pandas.pydata.org/pandas-docs/stable/generated/pandas.read_csv.html) of additional keywords to play around with. For our easy example we only needed four, but a bit more untidy data might force you to play around a lot more. For a little more information on how to create dataframes take a look [here](https://youtu.be/3k0HbcUGErE).\n",
    "\n",
    "### Practice Questions\n",
    "* What would happen if we would not define **na_values=-999**?\n",
    "* What does df.tail() do?\n",
    "* What kinds of Dataframe creation methods exist beside read_csv()"
   ]
  },
  {
   "cell_type": "markdown",
   "metadata": {},
   "source": [
    "### Exercise 2\n",
    "Download [this file](http://unstats.un.org/unsd/environment/excel_file_tables/2013/Energy%20Indicators.xls), which is provided by UN and contains energy indicators for 2013. Your task is to create a dataframe called \"energy\" that contains all entries in the right format. You should consider the following:\n",
    "* This is an Excel file, not a csv (If this confuses you a lot take a look at [this video](https://youtu.be/-0NwrcZOKhQ?t=16m))\n",
    "* The upper part is unecessary and you should not read it in (do not delete parts of the file)\n",
    "* The first two columns contain no information\n",
    "* Make sure all missing data is saved as NaN\n",
    "* There are several countries with numbers and/or parenthesis in their name. Be sure to remove these.\n",
    "    * 'Bolivia (Plurinational State of)' should be 'Bolivia'\n",
    "    * 'Switzerland17' should be 'Switzerland'\n",
    "    \n",
    "Finally, let pandas describe the dataset for you.\n",
    "    \n",
    "Hint: This exercise will be a bit challenging. Do not lose heart if this takes some time to sort out. \n",
    "\n",
    "Inspired by \"Introduction to Data Science\" MOOC by the University of Michigan"
   ]
  },
  {
   "cell_type": "markdown",
   "metadata": {},
   "source": [
    "## Save Dataframes as Files\n",
    "As stated above, you will mainly need to know how to save dataframes as csv files. First take a look at [this video](https://youtu.be/-0NwrcZOKhQ?t=11m49s) (you can stop at 15.30 Min). As you see writing to csv is not very complicated. The main syntax is:"
   ]
  },
  {
   "cell_type": "code",
   "execution_count": null,
   "metadata": {
    "collapsed": true
   },
   "outputs": [],
   "source": [
    "df.to_csv(\"name.csv\")"
   ]
  },
  {
   "cell_type": "markdown",
   "metadata": {},
   "source": [
    "But as the method to read_csv(), to_csv() has [quite a lot of keyword arguments](https://pandas.pydata.org/pandas-docs/stable/generated/pandas.DataFrame.to_csv.html). I will not go into detail here, as most are for edge cases, where you require a certain format. \n",
    "\n",
    "You can also save files as excel type, but this is a bit more complicated if you have to use several sheets.\n",
    "\n",
    "### Practice Questions\n",
    "* Which kinds of files can pandas create in addition to csv and excel?\n",
    "\n",
    "### Exercise 3\n",
    "Use the function read_in_csv() provided above to read in the csv created with create_csv(). Then write this dataframe again as a csv, but without an index and a header and only the data for Probe 1 and Probe 3. "
   ]
  },
  {
   "cell_type": "markdown",
   "metadata": {},
   "source": [
    "## Advanced Selection in Dataframes\n",
    "We already learned how to access rows or columns and now we learn to access both rows and columns at once. Pandas provides three main methods for this:\n",
    "* .loc[ ]  is for selecting the rows by the index and the columns by their names.\n",
    "* .iloc[ ]  is for selecting the rows and columns by their integer position (i for integer)\n",
    "* .ix[ ] mixes the two above by allowing you using labels and integers together\n",
    "\n",
    "For an overview take a look at [this video](https://youtu.be/xvpNA7bC8cs). Let's try the different methods step by step. \n",
    " \n",
    "### .loc[ ] Examples\n",
    "So the basic syntax is:"
   ]
  },
  {
   "cell_type": "code",
   "execution_count": null,
   "metadata": {
    "collapsed": true
   },
   "outputs": [],
   "source": [
    "df.loc[row_index_labels, column_name_labels]"
   ]
  },
  {
   "cell_type": "markdown",
   "metadata": {},
   "source": [
    "So for example we want to get the first ten rows and the data from Probe 1 and Probe 2 from our dataframe created above. "
   ]
  },
  {
   "cell_type": "code",
   "execution_count": null,
   "metadata": {},
   "outputs": [],
   "source": [
    "index = df.index\n",
    "first_ten = index[:10]\n",
    "print(df.loc[first_ten, [\"Probe1\", \"Probe2\"]])"
   ]
  },
  {
   "cell_type": "markdown",
   "metadata": {},
   "source": [
    "Or we could want to get all rows for Probe 1."
   ]
  },
  {
   "cell_type": "code",
   "execution_count": null,
   "metadata": {},
   "outputs": [],
   "source": [
    "print(df.loc[:, \"Probe1\"])"
   ]
  },
  {
   "cell_type": "markdown",
   "metadata": {},
   "source": [
    "Now you try. Use .loc[ ] to get rows 30 to 40 for all Probes."
   ]
  },
  {
   "cell_type": "code",
   "execution_count": null,
   "metadata": {
    "collapsed": true
   },
   "outputs": [],
   "source": []
  },
  {
   "cell_type": "markdown",
   "metadata": {},
   "source": [
    "You can also use .loc[ ] with boolean expressions, which comes in handy sometimes. You use it in the same way as before. Just tell pandas the rows you want and then the columns. Simply switch the labels with boolean expressions."
   ]
  },
  {
   "cell_type": "code",
   "execution_count": null,
   "metadata": {},
   "outputs": [],
   "source": [
    "print(df.loc[df[\"Probe2\"] > 500, \"Probe3\"])"
   ]
  },
  {
   "cell_type": "markdown",
   "metadata": {},
   "source": [
    "### Practice Questions\n",
    "* Describe the output of the statement above with your own words."
   ]
  },
  {
   "cell_type": "markdown",
   "metadata": {},
   "source": [
    "### .iloc[ ] Examples\n",
    "Basic syntax:"
   ]
  },
  {
   "cell_type": "code",
   "execution_count": 34,
   "metadata": {},
   "outputs": [
    {
     "ename": "NameError",
     "evalue": "name 'numbers_of_rows' is not defined",
     "output_type": "error",
     "traceback": [
      "\u001b[1;31m---------------------------------------------------------------------------\u001b[0m",
      "\u001b[1;31mNameError\u001b[0m                                 Traceback (most recent call last)",
      "\u001b[1;32m<ipython-input-34-1288893f5e27>\u001b[0m in \u001b[0;36m<module>\u001b[1;34m()\u001b[0m\n\u001b[1;32m----> 1\u001b[1;33m \u001b[0mprint\u001b[0m\u001b[1;33m(\u001b[0m\u001b[0mdf\u001b[0m\u001b[1;33m.\u001b[0m\u001b[0miloc\u001b[0m\u001b[1;33m[\u001b[0m\u001b[0mnumbers_of_rows\u001b[0m\u001b[1;33m,\u001b[0m \u001b[0mnumbers_of_columns\u001b[0m\u001b[1;33m]\u001b[0m\u001b[1;33m)\u001b[0m\u001b[1;33m\u001b[0m\u001b[0m\n\u001b[0m",
      "\u001b[1;31mNameError\u001b[0m: name 'numbers_of_rows' is not defined"
     ]
    }
   ],
   "source": [
    "df.iloc[numbers_of_rows, numbers_of_columns]"
   ]
  },
  {
   "cell_type": "markdown",
   "metadata": {},
   "source": [
    "For example we want to get rows 15 to 25 and the columns in positon 2 and 3."
   ]
  },
  {
   "cell_type": "code",
   "execution_count": 35,
   "metadata": {},
   "outputs": [
    {
     "name": "stdout",
     "output_type": "stream",
     "text": [
      "                            Probe3  Probe4\n",
      "Datetime                                  \n",
      "2018-07-06 13:30:08.036072     274     195\n",
      "2018-07-06 13:30:10.036072     226     650\n",
      "2018-07-06 13:30:12.036072      93     412\n",
      "2018-07-06 13:30:14.036072     200     273\n",
      "2018-07-06 13:30:16.036072     280     789\n",
      "2018-07-06 13:30:18.036072      61     335\n",
      "2018-07-06 13:30:20.036072     216     684\n",
      "2018-07-06 13:30:22.036072      52     347\n",
      "2018-07-06 13:30:24.036072     238      71\n",
      "2018-07-06 13:30:26.036072     270     292\n"
     ]
    }
   ],
   "source": [
    "print(df.iloc[15: 25, [2, 3]])"
   ]
  },
  {
   "cell_type": "markdown",
   "metadata": {},
   "source": [
    "### .ix[ ] Examples\n",
    "As stated above .ix[ ] allows you to combine what we have learned so far with iloc and loc. So for example you want to access the first ten rows and the column of Probe 3. You should not get to used to this way of indexing as it will soon be [removed from pandas](https://pandas.pydata.org/pandas-docs/stable/indexing.html#ix-indexer-is-deprecated), but you should not it exists as you might see it in other peoples code."
   ]
  },
  {
   "cell_type": "code",
   "execution_count": 36,
   "metadata": {},
   "outputs": [
    {
     "name": "stderr",
     "output_type": "stream",
     "text": [
      "C:\\Apps\\winpy3_6\\python-3.6.1.amd64\\lib\\site-packages\\ipykernel\\__main__.py:1: DeprecationWarning: \n",
      ".ix is deprecated. Please use\n",
      ".loc for label based indexing or\n",
      ".iloc for positional indexing\n",
      "\n",
      "See the documentation here:\n",
      "http://pandas.pydata.org/pandas-docs/stable/indexing.html#ix-indexer-is-deprecated\n",
      "  if __name__ == '__main__':\n"
     ]
    },
    {
     "data": {
      "text/plain": [
       "Datetime\n",
       "2018-07-06 13:29:38.036072    132\n",
       "2018-07-06 13:29:40.036072    300\n",
       "2018-07-06 13:29:42.036072    168\n",
       "2018-07-06 13:29:44.036072    312\n",
       "2018-07-06 13:29:46.036072     32\n",
       "2018-07-06 13:29:48.036072     80\n",
       "2018-07-06 13:29:50.036072     67\n",
       "2018-07-06 13:29:52.036072    163\n",
       "2018-07-06 13:29:54.036072    157\n",
       "2018-07-06 13:29:56.036072    272\n",
       "Name: Probe3, dtype: int64"
      ]
     },
     "execution_count": 36,
     "metadata": {},
     "output_type": "execute_result"
    }
   ],
   "source": [
    "df.ix[:10, \"Probe3\"]"
   ]
  },
  {
   "cell_type": "markdown",
   "metadata": {},
   "source": [
    "### Copies and Views\n",
    "When using all those different ways to access parts of dataframes confusion can arise, as some methods create copies (you get a new dataframe) and some other create a view (you still work with the old dataframe, but only see a part of it). However [general rules](https://stackoverflow.com/questions/23296282/what-rules-does-pandas-use-to-generate-a-view-vs-a-copy) exist. For convenience I made a 'copy':\n",
    "\n",
    "\"\n",
    "\n",
    "Here are the rules, subsequent override:\n",
    "* All operations generate a copy\n",
    "* If **inplace=True** is provided, it will modify in-place; only some operations support this\n",
    "* An indexer that sets, e.g. **.loc/.ix/.iloc/.iat/.at** will set inplace.\n",
    "* An indexer that gets on a single-dtyped object is almost always a view (depending on the memory layout it may not be that's why this is not reliable). This is mainly for efficiency. (the example from above is for **.query**; this will always return a copy as its evaluated by **numexpr**)\n",
    "* An indexer that gets on a multiple-dtyped object is always a copy.\n",
    "\n",
    "\""
   ]
  }
 ],
 "metadata": {
  "kernelspec": {
   "display_name": "Python 3",
   "language": "python",
   "name": "python3"
  },
  "language_info": {
   "codemirror_mode": {
    "name": "ipython",
    "version": 3
   },
   "file_extension": ".py",
   "mimetype": "text/x-python",
   "name": "python",
   "nbconvert_exporter": "python",
   "pygments_lexer": "ipython3",
   "version": "3.6.1"
  }
 },
 "nbformat": 4,
 "nbformat_minor": 2
}
